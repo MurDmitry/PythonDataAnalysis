{
 "cells": [
  {
   "cell_type": "code",
   "execution_count": 2,
   "metadata": {},
   "outputs": [],
   "source": [
    "import numpy as np"
   ]
  },
  {
   "cell_type": "markdown",
   "metadata": {},
   "source": [
    "Задача 1"
   ]
  },
  {
   "cell_type": "code",
   "execution_count": 23,
   "metadata": {},
   "outputs": [
    {
     "name": "stdout",
     "output_type": "stream",
     "text": [
      "20\n",
      "60\n"
     ]
    }
   ],
   "source": [
    "import numpy as np\n",
    "\n",
    "\n",
    "def function(int_list):    \n",
    "    n_list = np.array(int_list)\n",
    "    n_list = np.where(n_list < 0, 0, n_list)\n",
    "    n_list = np.where(n_list > 0, n_list * 4, n_list)\n",
    "    n_list = np.sort(n_list)[::-1]\n",
    "    return np.sum(n_list[:2])\n",
    "\n",
    "print(function([1, 2, 3, -3, 0]))\n",
    "print(function([1, 2, 13, -3, 0]))"
   ]
  },
  {
   "cell_type": "markdown",
   "metadata": {},
   "source": [
    "Задача 2"
   ]
  },
  {
   "cell_type": "code",
   "execution_count": 29,
   "metadata": {},
   "outputs": [
    {
     "name": "stdout",
     "output_type": "stream",
     "text": [
      "633\n",
      "596\n"
     ]
    }
   ],
   "source": [
    "import numpy as np \n",
    "\n",
    "\n",
    "def function(temperature1, temperature2):\n",
    "    temp1 = np.array(temperature1)\n",
    "    temp2 = np.array(temperature2)\n",
    "\n",
    "    temp1 = temp1[::3]\n",
    "    temp2 = temp2[::3]\n",
    "\n",
    "    mas_temp = np.concatenate((temp1, temp2))\n",
    "    mas_temp = mas_temp[mas_temp > 0]\n",
    "    \n",
    "    max_temp = int(np.max(mas_temp))\n",
    "    min_temp = int(np.min(mas_temp))\n",
    "    mean_temp = int(np.mean(mas_temp))\n",
    "    std_temp = int(np.std(mas_temp))\n",
    "\n",
    "    return max_temp + min_temp + mean_temp + std_temp\n",
    "\n",
    "print(function([12,24,36,-48,4,434,343], [12,24,36]))\n",
    "print(function([12,24,36,-48,4,434,343],[12,24,36,48]))"
   ]
  },
  {
   "cell_type": "markdown",
   "metadata": {},
   "source": [
    "Задание 3"
   ]
  },
  {
   "cell_type": "code",
   "execution_count": 18,
   "metadata": {},
   "outputs": [
    {
     "name": "stdout",
     "output_type": "stream",
     "text": [
      "1\n",
      "-4\n"
     ]
    }
   ],
   "source": [
    "import numpy as np\n",
    "\n",
    "\n",
    "def function(a, b):\n",
    "    M = np.array([\n",
    "        [a, 0, b, 0],\n",
    "        [4, 0, 1, -2],\n",
    "        [-4, 4, 0, 1],\n",
    "        [-1, 1, -2, 1]\n",
    "    ])\n",
    "    V = np.array([\n",
    "        2, \n",
    "        0,\n",
    "        5,\n",
    "        -2,\n",
    "    ])\n",
    "    res = np.linalg.solve(M, V)\n",
    "    ans = int(res[0] + res[1] + res[2] + res[3])\n",
    "    return ans\n",
    "\n",
    "print(function(12, 6))\n",
    "print(function(12, 62))"
   ]
  }
 ],
 "metadata": {
  "kernelspec": {
   "display_name": "Python 3",
   "language": "python",
   "name": "python3"
  },
  "language_info": {
   "codemirror_mode": {
    "name": "ipython",
    "version": 3
   },
   "file_extension": ".py",
   "mimetype": "text/x-python",
   "name": "python",
   "nbconvert_exporter": "python",
   "pygments_lexer": "ipython3",
   "version": "3.11.4"
  }
 },
 "nbformat": 4,
 "nbformat_minor": 2
}
