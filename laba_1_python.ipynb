{
 "cells": [
  {
   "cell_type": "code",
   "execution_count": 1,
   "metadata": {},
   "outputs": [
    {
     "name": "stdout",
     "output_type": "stream",
     "text": [
      "104068096\n"
     ]
    }
   ],
   "source": [
    "def my_list(n):\n",
    "    power_list = [2 ** i for i in range(1, n+1)]\n",
    "    del power_list[19:24+1]\n",
    "    del power_list[11:14+1]\n",
    "\n",
    "    sum = 0\n",
    "    for i in power_list:\n",
    "        sum += i\n",
    "    \n",
    "    return round(sum/ len(power_list))\n",
    "\n",
    "\n",
    "a = my_list(30)\n",
    "print(a)"
   ]
  },
  {
   "cell_type": "code",
   "execution_count": 2,
   "metadata": {},
   "outputs": [
    {
     "data": {
      "text/plain": [
       "512"
      ]
     },
     "execution_count": 2,
     "metadata": {},
     "output_type": "execute_result"
    }
   ],
   "source": [
    "def my_set(n):\n",
    "    task_set = set([i for i in range(1, n)])\n",
    "    \n",
    "    set_1 = set()\n",
    "    set_2 = set()\n",
    "\n",
    "    for i in task_set:\n",
    "        if i % 2 == 0:\n",
    "            set_1.add(i)\n",
    "        if i % 4 == 0:\n",
    "            set_2.add(i)\n",
    "\n",
    "    diff = set_1 - set_2\n",
    "    \n",
    "    sum = 0\n",
    "    for i in diff:\n",
    "        sum += i\n",
    "\n",
    "    return sum\n",
    "\n",
    "my_set(63)"
   ]
  },
  {
   "cell_type": "code",
   "execution_count": 3,
   "metadata": {},
   "outputs": [
    {
     "data": {
      "text/plain": [
       "847.0"
      ]
     },
     "execution_count": 3,
     "metadata": {},
     "output_type": "execute_result"
    }
   ],
   "source": [
    "def weather_forecast(day):\n",
    "    weather_station1 = {\n",
    "        1: [20, 735], \n",
    "        2: [21, 737], \n",
    "        3: [23, 740], \n",
    "        4: [20, 739], \n",
    "        5: [21, 750],\n",
    "        6: [21, 751], \n",
    "        7: [22, 749], \n",
    "        8: [19, 745], \n",
    "        9: [22, 752],\n",
    "        10: [23, 753]\n",
    "    }\n",
    "\n",
    "    weather_station2 = {\n",
    "        1: [20, 89], \n",
    "        2: [20, 90], \n",
    "        3: [24, 95], \n",
    "        4: [20, 88], \n",
    "        5: [21, 87],\n",
    "        6: [21, 80], \n",
    "        7: [22, 72], \n",
    "        8: [18, 80], \n",
    "        9: [22, 75],\n",
    "        10: [23, 78]\n",
    "    }\n",
    "\n",
    "    t = (weather_station1[day][0] + weather_station2[day][0])/ 2\n",
    "    p = weather_station1[day][1]\n",
    "    h = weather_station2[day][1]\n",
    "\n",
    "    return t + p + h\n",
    "\n",
    "weather_forecast(4) "
   ]
  },
  {
   "cell_type": "code",
   "execution_count": 6,
   "metadata": {},
   "outputs": [
    {
     "name": "stdout",
     "output_type": "stream",
     "text": [
      "8828\n"
     ]
    }
   ],
   "source": [
    "import random\n",
    "from sys import getsizeof\n",
    "\n",
    "def check_generator():\n",
    "    mas_gen = [random.randint(1, 10000) for i in range(1000)]\n",
    "    mem1 = getsizeof(mas_gen)\n",
    "\n",
    "    def gen():\n",
    "        for i in range(1000):\n",
    "            yield random.randint(1, 10000)\n",
    "\n",
    "    g = gen()\n",
    "    el1 = next(g)\n",
    "    el2 = next(g)\n",
    "\n",
    "    mem2 = getsizeof(el2)\n",
    "\n",
    "    return mem1 - mem2\n",
    "\n",
    "a = check_generator()\n",
    "print(a)\n",
    "\n",
    "\n",
    "\n"
   ]
  },
  {
   "cell_type": "code",
   "execution_count": 5,
   "metadata": {},
   "outputs": [
    {
     "data": {
      "text/plain": [
       "'ааауууаааыыыуууаааоооаааыыы'"
      ]
     },
     "execution_count": 5,
     "metadata": {},
     "output_type": "execute_result"
    }
   ],
   "source": [
    "def function(string):\n",
    "    list_1 = list(filter(lambda x: x in \"аеёиоуыэюя\", string))\n",
    "    list_2 = list(map(lambda x: x + x , list_1))\n",
    "    list_3 = list(zip(list_1, list_2))\n",
    "\n",
    "    string_out = ''\n",
    "\n",
    "    for i in list_3:\n",
    "        string_out += i[0]\n",
    "        string_out += i[1]\n",
    "\n",
    "    return string_out\n",
    "\n",
    "function(\"Карл у Клары украл кораллы\")"
   ]
  }
 ],
 "metadata": {
  "kernelspec": {
   "display_name": "Python 3",
   "language": "python",
   "name": "python3"
  },
  "language_info": {
   "codemirror_mode": {
    "name": "ipython",
    "version": 3
   },
   "file_extension": ".py",
   "mimetype": "text/x-python",
   "name": "python",
   "nbconvert_exporter": "python",
   "pygments_lexer": "ipython3",
   "version": "3.11.4"
  }
 },
 "nbformat": 4,
 "nbformat_minor": 2
}
