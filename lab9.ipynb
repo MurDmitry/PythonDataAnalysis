{
  "nbformat": 4,
  "nbformat_minor": 0,
  "metadata": {
    "colab": {
      "provenance": []
    },
    "kernelspec": {
      "name": "python3",
      "display_name": "Python 3"
    },
    "language_info": {
      "name": "python"
    }
  },
  "cells": [
    {
      "cell_type": "markdown",
      "source": [
        "Лабораторная 9"
      ],
      "metadata": {
        "id": "Y_MKqZDCkOgL"
      }
    },
    {
      "cell_type": "code",
      "execution_count": null,
      "metadata": {
        "id": "SKGowJnWkNid"
      },
      "outputs": [],
      "source": [
        "import requests\n",
        "\n",
        "\n",
        "def get_headers():\n",
        "  response = requests.get(\"https://httpbin.org/get\")\n",
        "  parsed_json = response.json()\n",
        "  return parsed_json['headers']['Host']\n"
      ]
    },
    {
      "cell_type": "code",
      "source": [
        "import bs4\n",
        "from bs4 import BeautifulSoup\n",
        "import requests\n",
        "import lxml\n",
        "import html5lib\n",
        "import re\n",
        "\n",
        "sum_da = 0\n",
        "from google.colab import drive\n",
        "drive.mount('/content/gdrive')\n",
        "gc_folder = r\"/content/gdrive/My Drive/Python для анализа данных/lab_works_files\"\n",
        "my_file = gc_folder + '/ПетрГУ_Википедия.html'\n",
        "\n",
        "with open(my_file) as f:\n",
        "  soup = BeautifulSoup(f)\n",
        "\n",
        "div = soup.find_all(\"div\")\n",
        "print(len(div))\n",
        "a = soup.find_all(\"a\")\n",
        "print(len(a))\n",
        "sum_da = len(div) + len(a)\n",
        "print(sum_da)"
      ],
      "metadata": {
        "colab": {
          "base_uri": "https://localhost:8080/"
        },
        "id": "DZIXFw1plKse",
        "outputId": "cf36ff3f-f512-466a-b729-b46871ead78d"
      },
      "execution_count": null,
      "outputs": [
        {
          "output_type": "stream",
          "name": "stdout",
          "text": [
            "Drive already mounted at /content/gdrive; to attempt to forcibly remount, call drive.mount(\"/content/gdrive\", force_remount=True).\n",
            "193\n",
            "1926\n",
            "2119\n"
          ]
        }
      ]
    },
    {
      "cell_type": "code",
      "source": [
        "import bs4\n",
        "from bs4 import BeautifulSoup\n",
        "import requests\n",
        "import lxml\n",
        "import html5lib\n",
        "import re\n",
        "\n",
        "from google.colab import drive\n",
        "drive.mount('/content/gdrive')\n",
        "gc_folder = r\"/content/gdrive/My Drive/Python для анализа данных/lab_works_files\"\n",
        "my_file = gc_folder + '/Карелия_Википедия.html'\n",
        "\n",
        "with open(my_file) as f:\n",
        "  soup = BeautifulSoup(f)\n",
        "\n",
        "div = soup.find('div', id=\"mw-content-text\")\n",
        "ui = div.find_all('ul')\n",
        "\n",
        "theater_links = {}\n",
        "\n",
        "for ul in ui:\n",
        "    if any(\"театр\" in li.text.lower() for li in ul.find_all('li')):\n",
        "        for li in ul.find_all('li'):\n",
        "            a_tag = li.find('a')\n",
        "            if a_tag and a_tag['href'].startswith('/wiki/'):\n",
        "                theater_name = a_tag.text.strip()\n",
        "                theater_link = a_tag['href']\n",
        "                theater_links[theater_name] = theater_link\n",
        "\n",
        "music_theater_link = theater_links.get(\"Музыкальный театр Республики Карелия\")\n",
        "\n",
        "print(music_theater_link)\n",
        "<a href=\"/wiki/%D0%9C%D1%83%D0%B7%D1%8B%D0%BA%D0%B0%D0%BB%D1%8C%D0%BD%D1%8B%D0%B9_%D1%82%D0%B5%D0%B0%D1%82%D1%80_%D0%A0%D0%B5%D1%81%D0%BF%D1%83%D0%B1%D0%BB%D0%B8%D0%BA%D0%B8_%D0%9A%D0%B0%D1%80%D0%B5%D0%BB%D0%B8%D1%8F\"\n",
        "\n",
        "\n"
      ],
      "metadata": {
        "colab": {
          "base_uri": "https://localhost:8080/"
        },
        "id": "8kfcj_EdojmC",
        "outputId": "76581945-3502-4f90-a61b-78110b6ba7b6"
      },
      "execution_count": null,
      "outputs": [
        {
          "output_type": "stream",
          "name": "stdout",
          "text": [
            "Drive already mounted at /content/gdrive; to attempt to forcibly remount, call drive.mount(\"/content/gdrive\", force_remount=True).\n",
            "/wiki/%D0%9C%D1%83%D0%B7%D1%8B%D0%BA%D0%B0%D0%BB%D1%8C%D0%BD%D1%8B%D0%B9_%D1%82%D0%B5%D0%B0%D1%82%D1%80_%D0%A0%D0%B5%D1%81%D0%BF%D1%83%D0%B1%D0%BB%D0%B8%D0%BA%D0%B8_%D0%9A%D0%B0%D1%80%D0%B5%D0%BB%D0%B8%D1%8F\n"
          ]
        }
      ]
    }
  ]
}