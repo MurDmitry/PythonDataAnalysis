{
 "cells": [
  {
   "cell_type": "markdown",
   "metadata": {},
   "source": [
    "Лаба 2 Задание 1\n",
    "\n",
    "Используйте регулярные выражения. Вставьте в ответ код программы на Python, с реализацией функции function(string), на вход которой подается строка string. Функции function(string) с помощью return должна возвращать количество слов в string, которые начинаются с русскоязычных букв “о” или “э” в любом регистре. \n",
    "\n",
    "Например: function(‘Сказала Ольга: \"Это верно ,что 2+2=4\"’) -> 2 ."
   ]
  },
  {
   "cell_type": "code",
   "execution_count": 2,
   "metadata": {},
   "outputs": [
    {
     "name": "stdout",
     "output_type": "stream",
     "text": [
      "3\n"
     ]
    }
   ],
   "source": [
    "import re\n",
    "def function(string):\n",
    "    # ВАЖНО: русские слова (\\w не подойдет), слово может быть просто \"о\" => \\[А-ЯЁа-яё]* а не \\[А-ЯЁа-яё]+\n",
    "    words = re.findall(r'\\b[ОЭоэ][А-ЯЁа-яё]*', string)\n",
    "    word_amount = len(words)\n",
    "    return word_amount\n",
    "\n",
    "\n",
    "# Не надо добавлять в ответ\n",
    "result = function('Это надо о знать. Это - классика')\n",
    "print(result)"
   ]
  },
  {
   "cell_type": "markdown",
   "metadata": {},
   "source": [
    "Лаба 2 Задание 2\n",
    "\n",
    "Из переданного текста нужно получить последовательности из букв (русских или английских), в которых могут быть дефисы (т.е. слова с дефисами считаются одним словом, а не двумя). Вставьте в ответ код программы с реализацией функции function(string), на вход которой подается строка string. Функции function(string) с помощью return должна возвращать количество указанных последовательностей в string.\n",
    "\n",
    "Например,  function( \"\"\"\n",
    "\n",
    "Он --- серо-буро-малиновый слон!!\n",
    "\n",
    ">>>:->\n",
    "\n",
    "А не кот.\n",
    "\n",
    "  \"\"\")  -> 6"
   ]
  },
  {
   "cell_type": "code",
   "execution_count": 3,
   "metadata": {},
   "outputs": [
    {
     "name": "stdout",
     "output_type": "stream",
     "text": [
      "5\n"
     ]
    }
   ],
   "source": [
    "import re\n",
    "def function(string):\n",
    "    words = re.findall(r'\\b[а-яёА-ЯЁa-zA-Z]+(-[а-яёА-ЯЁa-zA-Z]+)*\\b', string)\n",
    "    word_amount = len(words)\n",
    "    return word_amount\n",
    "\n",
    "\n",
    "# Не надо добавлять в ответ\n",
    "# result = function(\"\"\"\n",
    "#                   Он --- серо-буро-малиновый слон!!\n",
    "#                   >>>:->\n",
    "#                   А не кот.\n",
    "#                   \"\"\")\n",
    "result = function(\"\"\"Он - человек!!>>>:->А не кот.\"\"\")\n",
    "print(result)"
   ]
  },
  {
   "cell_type": "markdown",
   "metadata": {},
   "source": [
    "Лаба 2 Задание 3\n",
    "\n",
    "За аббревиатуру будем считать последовательность только заглавных букв (не менее двух). Вставьте в ответ код программы с реализацией функции function(string), на вход которой подается строка string. Функции function(string) с помощью return должна возвращать количество аббревиатур в string.\n",
    "\n",
    "Например: function(« А курс информатики в вузе соответствует ФГОС и ПООП, что подтверждено ФГУ») -> 3 "
   ]
  },
  {
   "cell_type": "code",
   "execution_count": 4,
   "metadata": {},
   "outputs": [
    {
     "name": "stdout",
     "output_type": "stream",
     "text": [
      "3\n"
     ]
    }
   ],
   "source": [
    "import re\n",
    "def function(string):\n",
    "    words = re.findall(r'\\b[А-ЯЁA-Z]{2,}\\b', string)\n",
    "    word_amount = len(words)\n",
    "    return word_amount\n",
    "\n",
    "\n",
    "result = function(\" А курс информатики в вузе соответствует ФГОС и ПООП, что подтверждено ФГУ\")\n",
    "print(result)"
   ]
  },
  {
   "cell_type": "markdown",
   "metadata": {},
   "source": [
    "Лаба 2 Задание 4\n",
    "\n",
    "Предположим вы получили код, в котором переменные названы в стиле CamelCase (название переменной состоит из разных слов, из которых второе и последующее начинаются с заглавных буквы, например: мояПерваяПеременная или атмосферноеДавление), а вам нужен название переменных в стиле snake_case (название состоит из разных слов, которые начинаются с прописных букв и разделены подчеркиванием, например: моя_первая_переменная или атмосферное_давление). Вручную править код будет довольно долго.  Вставьте в ответ код программы с реализацией функции function(string), на вход которой подается строка string с названием переменной в стиле camelCase.  Функция function(string) с помощью return должна возвращать название этой же переменной в стиле snake_case.\n",
    "\n",
    "Например, function(\"camelCaseVar\") -> camel_case_var ."
   ]
  },
  {
   "cell_type": "code",
   "execution_count": 6,
   "metadata": {},
   "outputs": [
    {
     "name": "stdout",
     "output_type": "stream",
     "text": [
      "camel_case_var_lol\n"
     ]
    }
   ],
   "source": [
    "import re\n",
    "def function(string):\n",
    "    answer = re.sub(r'(?=[A-ZА-ЯЁ])', \"_\", string)\n",
    "    return answer.lower()\n",
    "\n",
    "\n",
    "result = function(\"camelCaseVarLol\")\n",
    "print(result)"
   ]
  },
  {
   "cell_type": "markdown",
   "metadata": {},
   "source": [
    "Лаба 2 Задание 5\n",
    "\n",
    "Реализовать на своем компьютере. Из файлa n_log1.txt отобрать все строки, содержащие подстроки «KEEP» и «pressure=». Эти строки записать в файл out1.txt. Используя строки в out1.txt найти минимальное, среднее, максимальное значение атмосферного давления (pressure). Найти значение sum_mma, которое рассчитывается, как сумма минимального, максимального и округленного с помощью функции int() среднего значения атмосферного давления. \n",
    "\n",
    "\n",
    "Вставьте в ответ строчку кода, в которой с помощью print() передать найденное на предыдущем шаге sum_mma."
   ]
  },
  {
   "cell_type": "code",
   "execution_count": 21,
   "metadata": {},
   "outputs": [],
   "source": [
    "import re\n",
    "\n",
    "with open('n_log1.txt', 'r') as f:\n",
    "    lines = f.readlines()\n",
    "\n",
    "# Отбираю нужные строчки из файла n_log1.txt\n",
    "filtered_lines = [line for line in lines if 'KEEP' in line and 'pressure=' in line]\n",
    "\n",
    "with open('out1.txt', 'w') as outfile:\n",
    "    outfile.writelines(filtered_lines)"
   ]
  },
  {
   "cell_type": "code",
   "execution_count": 25,
   "metadata": {},
   "outputs": [
    {
     "name": "stdout",
     "output_type": "stream",
     "text": [
      "3080695\n"
     ]
    }
   ],
   "source": [
    "import re\n",
    "\n",
    "with open('out1.txt', 'r') as f:\n",
    "    lines = f.readlines()\n",
    "\n",
    "# Шаблон по которому будем искать\n",
    "pattern = re.compile(r'pressure=(\\d+)')\n",
    "\n",
    "all_pressure = []\n",
    "for line in lines:\n",
    "    # Иду по всем строчкам, ищу нужный шаблон и беру оттуда цифры\n",
    "    match = pattern.search(line)\n",
    "    all_pressure.append(int(match.group(1)))\n",
    "\n",
    "min_pressure = min(all_pressure)\n",
    "max_pressure = max(all_pressure)\n",
    "avg_pressure = sum(all_pressure) / len(all_pressure)\n",
    "rounded_avg_pressure = int(avg_pressure)\n",
    "\n",
    "# Рассчитываем sum_mma\n",
    "sum_mma = min_pressure + max_pressure + rounded_avg_pressure\n",
    "print(sum_mma)\n"
   ]
  },
  {
   "cell_type": "markdown",
   "metadata": {},
   "source": [
    "Лаба 2 задание 6\n",
    "\n",
    "Реализовать на своем компьютере. Скачать и распаковать folder_main.zip c папками (директориями) и файлами. В каждой директории размещены файлы.  Написать программу, которая: \n",
    "\n",
    "Используя функции модуля os, получает списки всех папок и файлов, находящихся в папке folder_main и во вложенных в нее папках. \n",
    "Находит и сохраняет в переменную n_file_before количество найденных файлов.\n",
    "Удаляет все .txt-файлы и возвращает новый список файлов в папке folder_main и во вложенных в нее папках.\n",
    "Находит и сохраняет в переменную n_file_after количество найденных файлов в папке folder_main и во вложенных в нее папках.\n",
    "Находит sum_file значение суммы n_file_before и n_file_after.\n",
    "Вставьте в ответ строчку кода, в которой с помощью print() передать найденное sum_file."
   ]
  },
  {
   "cell_type": "code",
   "execution_count": 60,
   "metadata": {},
   "outputs": [
    {
     "name": "stdout",
     "output_type": "stream",
     "text": [
      "137\n",
      "24\n"
     ]
    }
   ],
   "source": [
    "import os\n",
    "# Возвращает абсолютный путь до папки\n",
    "path = os.path.abspath('.\\\\folder_main')\n",
    "\n",
    "def f_amount(path_to_folder):\n",
    "    file_amount = 0\n",
    "    for i in os.walk(path_to_folder):\n",
    "        # Возвращает массив содержащий 3 элемента: путь, папки и файлы. По заданию нужно получить количество файлов => i[2]\n",
    "        file_amount += len(i[2])\n",
    "    return file_amount\n",
    "\n",
    "\n",
    "n_file_before = f_amount(path)    # 137\n",
    "print(n_file_before)\n",
    "\n",
    "# Удаляю все txt файлы\n",
    "for i in os.walk(path):\n",
    "    for file in i[2]:\n",
    "        if file.endswith('.txt'):\n",
    "            os.remove(os.path.join(i[0], file))\n",
    "\n",
    "n_file_after = f_amount(path) # 24\n",
    "print(n_file_after)\n",
    "\n",
    "print(137+24)"
   ]
  }
 ],
 "metadata": {
  "kernelspec": {
   "display_name": "Python 3",
   "language": "python",
   "name": "python3"
  },
  "language_info": {
   "codemirror_mode": {
    "name": "ipython",
    "version": 3
   },
   "file_extension": ".py",
   "mimetype": "text/x-python",
   "name": "python",
   "nbconvert_exporter": "python",
   "pygments_lexer": "ipython3",
   "version": "3.11.4"
  }
 },
 "nbformat": 4,
 "nbformat_minor": 2
}
