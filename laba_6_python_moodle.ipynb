{
 "cells": [
  {
   "cell_type": "code",
   "execution_count": 1,
   "metadata": {},
   "outputs": [],
   "source": [
    "%matplotlib inline\n",
    "import pandas as pd\n",
    "import numpy as np"
   ]
  },
  {
   "cell_type": "markdown",
   "metadata": {},
   "source": [
    "**Задание 1**\n",
    "\n",
    "Создайте функцию series_data(name, index), в которой сгенерируйте объект s типа Series, содержащий все целые положительные нечетные числа меньшие 1000. Озаглавьте серию как name. Индексы s должны начинаться с 1 (1, 2, 3, ..). Преобразуйте числа, начиная с числа с индексом index (5 < index < 470) и до конца списка следующим образом:\n",
    "\n",
    "если индекс нечетный (1, 3…), то число умножается на 5,\n",
    "\n",
    "если индекс четный (2, 4…), то к числу прибавляется 7.\n",
    "\n",
    "Функция series_data(name,index) должна с помощью return возвращать наибольшее из чисел с индексами index, index+1, index+7."
   ]
  },
  {
   "cell_type": "code",
   "execution_count": 22,
   "metadata": {},
   "outputs": [
    {
     "name": "stdout",
     "output_type": "stream",
     "text": [
      "285\n",
      "385\n"
     ]
    }
   ],
   "source": [
    "import pandas as pd\n",
    "\n",
    "\n",
    "def series_data(name, index):\n",
    "    s = pd.Series(range(1, 1000, 2), name=name)\n",
    "    s.index += 1\n",
    "    for i in range(1, len(s)+1):      # len(s)+1 потому что индексация серии идет с 1 (а не с 0)\n",
    "        if i % 2 == 1:\n",
    "            s[i] *= 5\n",
    "        else:\n",
    "            s[i] += 7\n",
    "    ans = max(s[index], s[index+1], s[index+7])\n",
    "    return ans\n",
    "\n",
    "\n",
    "print(series_data('Название серии', 22))\n",
    "print(series_data('Название серии', 32))"
   ]
  },
  {
   "cell_type": "markdown",
   "metadata": {},
   "source": [
    "**Задание 2**\n",
    "\n",
    "Создайте функцию frame_data(values, indices), где values – двумерный список чисел размера n x m (n =  2, 3, …; m =  2, 3, …), indices – список из односимвольных значений длиной n. В этой функции:\n",
    "\n",
    "1. Со значениями values и индексами indices создайте объект df класса DataFrame.\n",
    "2. Отсортируйте df по убыванию значения индекса. \n",
    "3. Все значения в df увеличьте на 2.\n",
    "4. К элементам последнего столбца добавьте элементы первого по счету столбца.\n",
    "\n",
    "Функция frame_data() должна с помощью return возвращать значение последнего элемента последней строки df."
   ]
  },
  {
   "cell_type": "code",
   "execution_count": null,
   "metadata": {},
   "outputs": [
    {
     "name": "stdout",
     "output_type": "stream",
     "text": [
      "8\n",
      "305\n"
     ]
    }
   ],
   "source": [
    "import pandas as pd\n",
    "\n",
    "\n",
    "def frame_data(values, indices):\n",
    "    df = pd.DataFrame(values, index=indices)\n",
    "    df.sort_index(ascending=False, inplace=True)    # Сортировка по убыванию, inplace=True обеспечивает сохранение примененного преобразования в DataFrame\n",
    "    df += 2   \n",
    "    df.iloc[:, -1] += df.iloc[:, 0]\n",
    "    return df.iloc[-1, -1]\n",
    "\n",
    "\n",
    "print(frame_data([[1,11,21],[1,2,3],[-1,-2,-3]], ['V','E','F']))\n",
    "print(frame_data([[111,111,31,41,51,116],[141,15,61,6,717,160],[77,82,91,324,314,10]], ['Z','E','F']))"
   ]
  },
  {
   "cell_type": "markdown",
   "metadata": {},
   "source": [
    "**Задание 3**\n",
    "\n",
    "Реализовать на своем компьютере. В файле tranzaktions.csv приведена история продаж автомобилей тремя продавцами seller_1, seller_2, seller_3 автомагазина. Написать функцию sellers(n), в которую передается номер продавца n (1<= n<=3). В функции, используя методы модуля pandas:\n",
    "\n",
    "1. Преобразовать файл tranzaktions.csv в DataFrame.\n",
    "2. Используя агрегацию найти и сохранить в переменные sum_n и avg_n соответственно сумму и среднее значение вырученных средств продавца с номером n (seller_n). Среднее значение avg_n, используя функцию round(), округлить до целого числа.\n",
    "3. Используя агрегацию найти и сохранить в переменную avg2_n  среднее значение вырученных средств продавца с номером n (seller_n) при продаже автомобилей, цена которых >= 2 миллиона. Среднее значение avg2_n, используя функцию round(), округлить до целого числа.\n",
    "4. Функция sellers(n) с помощью return должна возвращать сумму значений sum_n, avg_n и avg2_n.\n",
    "Найти значение sel_n, которое возвращает sellers(n) при n=2.\n",
    "\n",
    "Вставьте в ответ строчку кода, в которой с помощью print() передать найденное sel_n."
   ]
  },
  {
   "cell_type": "code",
   "execution_count": 50,
   "metadata": {},
   "outputs": [
    {
     "data": {
      "text/plain": [
       "15.7"
      ]
     },
     "execution_count": 50,
     "metadata": {},
     "output_type": "execute_result"
    }
   ],
   "source": [
    "import pandas as pd\n",
    "\n",
    "\n",
    "def sellers(n):\n",
    "    df = pd.read_csv('tranzaktions.csv', sep='\\t')\n",
    "    sum_n, avg_n = df[df[\"Продавец\"] == f'seller_{n}']['Цена (млн)'].agg(['sum', 'mean'])\n",
    "    avg2_n = round(df[(df['Продавец'] == f'seller_{n}') & (df['Цена (млн)'] >= 2)]['Цена (млн)'].mean())\n",
    "    return sum_n + round(avg_n) + avg2_n\n",
    "\n",
    "sellers(2)"
   ]
  }
 ],
 "metadata": {
  "kernelspec": {
   "display_name": "Python 3",
   "language": "python",
   "name": "python3"
  },
  "language_info": {
   "codemirror_mode": {
    "name": "ipython",
    "version": 3
   },
   "file_extension": ".py",
   "mimetype": "text/x-python",
   "name": "python",
   "nbconvert_exporter": "python",
   "pygments_lexer": "ipython3",
   "version": "3.11.4"
  }
 },
 "nbformat": 4,
 "nbformat_minor": 2
}
