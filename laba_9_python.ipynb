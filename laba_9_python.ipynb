{
 "cells": [
  {
   "cell_type": "markdown",
   "metadata": {},
   "source": [
    "**Задание 1**\n",
    "\n",
    " Вставьте в ответ код программы с реализацией функции get_headers(), в которой выполните GET-запрос на https://httpbin.org/get и получите текст ответа в json-формате. С помощью return функция get_headers() должна возвращать значение из заголовков (“headers”) по ключу “Host”."
   ]
  },
  {
   "cell_type": "code",
   "execution_count": null,
   "metadata": {},
   "outputs": [
    {
     "data": {
      "text/plain": [
       "'httpbin.org'"
      ]
     },
     "execution_count": 2,
     "metadata": {},
     "output_type": "execute_result"
    }
   ],
   "source": [
    "import requests\n",
    "\n",
    "\n",
    "def get_headers():\n",
    "  response = requests.get(\"https://httpbin.org/get\")\n",
    "  parsed_json = response.json()\n",
    "  return parsed_json['headers']['Host']\n",
    "\n",
    "\n",
    "get_headers()"
   ]
  },
  {
   "cell_type": "markdown",
   "metadata": {},
   "source": [
    "**Задание 2**\n",
    "\n",
    "Реализовать на своем компьютере. C помощью методов модуля bs4 узнайте сумму sum_da количества тегов \\<div> и \\<a> на веб-странице ПетрГУ_Википедияhtml.\n",
    "\n",
    "Вставьте в ответ строчку кода, в которой с помощью print() передать найденное sum_da."
   ]
  },
  {
   "cell_type": "code",
   "execution_count": null,
   "metadata": {},
   "outputs": [
    {
     "name": "stdout",
     "output_type": "stream",
     "text": [
      "2119\n"
     ]
    }
   ],
   "source": [
    "import bs4  # Модуль BeautifulSoup\n",
    "from bs4 import BeautifulSoup\n",
    "\n",
    "sum_da = 0\n",
    "ff = \"ПетрГУ_Википедия.html\"\n",
    "\n",
    "with open(ff, encoding='utf-8-sig') as f:\n",
    "    soup = BeautifulSoup(f, 'html.parser')\n",
    "\n",
    "\n",
    "div = soup.find_all(\"div\")\n",
    "a = soup.find_all(\"a\")\n",
    "sum_da = len(div) + len(a)\n",
    "print(sum_da)"
   ]
  },
  {
   "cell_type": "markdown",
   "metadata": {},
   "source": [
    "**Задание 3**\n",
    "\n",
    "Реализовать на своем компьютере. Используя средства модуля bs4, из сохраненной веб-страницы Карелия_Википедия.html получить имена всех театров РК и wiki-ссылки на них (которые начинаются с /wiki/). Из полученных названий и ссылок составить словарь, в котором ключом является название театра, а значением его wiki-ссылка. В качестве ответа передать wiki-ссылку на “Музыкальный театр Республики Карелия”. \n",
    "\n",
    "В ответ с помощью print() нужно передать то, что находится в кавычках после \"/href=\" (кавычки и информацию о title в ответ вставлять не нужно)."
   ]
  },
  {
   "cell_type": "code",
   "execution_count": null,
   "metadata": {},
   "outputs": [
    {
     "name": "stdout",
     "output_type": "stream",
     "text": [
      "/wiki/%D0%9C%D1%83%D0%B7%D1%8B%D0%BA%D0%B0%D0%BB%D1%8C%D0%BD%D1%8B%D0%B9_%D1%82%D0%B5%D0%B0%D1%82%D1%80_%D0%A0%D0%B5%D1%81%D0%BF%D1%83%D0%B1%D0%BB%D0%B8%D0%BA%D0%B8_%D0%9A%D0%B0%D1%80%D0%B5%D0%BB%D0%B8%D1%8F\n"
     ]
    }
   ],
   "source": [
    "import bs4\n",
    "from bs4 import BeautifulSoup\n",
    "\n",
    "ff = 'Карелия_Википедия.html'\n",
    "\n",
    "with open(ff, encoding='utf-8-sig') as f:\n",
    "    soup = BeautifulSoup(f, 'html.parser')\n",
    "\n",
    "theater_dict = {}\n",
    "\n",
    "# Ищу все ссылки на театры\n",
    "for link in soup.find_all('a'):\n",
    "    theater_name = link.get_text()       # Получаю текст ссылки (название театра)\n",
    "    href = link.get('href')              # Получаем href (ссылка)\n",
    "    \n",
    "    # Проверяю, что ссылка начинается с /wiki/ и не является пустой\n",
    "    if href and href.startswith('/wiki/') and theater_name:\n",
    "        theater_dict[theater_name] = href\n",
    "\n",
    "# Получаю ссылку на \"Музыкальный театр Республики Карелия\"\n",
    "musical_theater_link = theater_dict.get(\"Музыкальный театр Республики Карелия\")\n",
    "print(musical_theater_link)\n",
    "\n",
    "\n",
    "print(/wiki/%D0%9C%D1%83%D0%B7%D1%8B%D0%BA%D0%B0%D0%BB%D1%8C%D0%BD%D1%8B%D0%B9_%D1%82%D0%B5%D0%B0%D1%82%D1%80_%D0%A0%D0%B5%D1%81%D0%BF%D1%83%D0%B1%D0%BB%D0%B8%D0%BA%D0%B8_%D0%9A%D0%B0%D1%80%D0%B5%D0%BB%D0%B8%D1%8F\n",
    ")"
   ]
  }
 ],
 "metadata": {
  "kernelspec": {
   "display_name": "Python 3",
   "language": "python",
   "name": "python3"
  },
  "language_info": {
   "codemirror_mode": {
    "name": "ipython",
    "version": 3
   },
   "file_extension": ".py",
   "mimetype": "text/x-python",
   "name": "python",
   "nbconvert_exporter": "python",
   "pygments_lexer": "ipython3",
   "version": "3.11.4"
  }
 },
 "nbformat": 4,
 "nbformat_minor": 2
}
