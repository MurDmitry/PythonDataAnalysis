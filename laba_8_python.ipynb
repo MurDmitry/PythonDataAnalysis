{
 "cells": [
  {
   "cell_type": "code",
   "execution_count": 1,
   "metadata": {},
   "outputs": [],
   "source": [
    "# %pip install openpyxl             # Для pd.read_excel\n",
    "# %pip install pymorphy2\n",
    "# %pip install pymorphy3"
   ]
  },
  {
   "cell_type": "code",
   "execution_count": 2,
   "metadata": {
    "executionInfo": {
     "elapsed": 2677,
     "status": "ok",
     "timestamp": 1728031426252,
     "user": {
      "displayName": "Николай Смирнов",
      "userId": "05792503510966078252"
     },
     "user_tz": -180
    },
    "id": "wUTVsA9bTS5k"
   },
   "outputs": [],
   "source": [
    "import re\n",
    "import random\n",
    "import numpy as np\n",
    "import itertools\n",
    "\n",
    "import pandas as pd\n",
    "pd.options.display.width = 0\n",
    "pd.set_option('display.max_rows', 100)\n",
    "pd.set_option('display.max_columns', 11)\n",
    "\n",
    "import matplotlib.pyplot as plt\n",
    "import matplotlib.lines as lines\n",
    "import matplotlib.text as text\n",
    "import matplotlib.cm as cm\n",
    "\n",
    "from sklearn.feature_extraction.text import TfidfVectorizer, CountVectorizer\n",
    "from sklearn.metrics import classification_report, confusion_matrix\n",
    "from sklearn.model_selection import train_test_split\n",
    "from sklearn.linear_model import LogisticRegression\n",
    "\n",
    "from sklearn.model_selection import GridSearchCV"
   ]
  },
  {
   "cell_type": "code",
   "execution_count": 3,
   "metadata": {
    "colab": {
     "base_uri": "https://localhost:8080/"
    },
    "executionInfo": {
     "elapsed": 12080,
     "status": "ok",
     "timestamp": 1728050483474,
     "user": {
      "displayName": "Николай Смирнов",
      "userId": "05792503510966078252"
     },
     "user_tz": -180
    },
    "id": "wxNr3XmLe1q0",
    "outputId": "d1d8ea99-4cbb-49d8-d603-39071129e338"
   },
   "outputs": [],
   "source": [
    "import pymorphy3        # Модуль для анализа слов в предложении"
   ]
  },
  {
   "cell_type": "code",
   "execution_count": 4,
   "metadata": {
    "colab": {
     "base_uri": "https://localhost:8080/"
    },
    "executionInfo": {
     "elapsed": 346,
     "status": "ok",
     "timestamp": 1728031437561,
     "user": {
      "displayName": "Николай Смирнов",
      "userId": "05792503510966078252"
     },
     "user_tz": -180
    },
    "id": "vVH-7VDJLr-c",
    "outputId": "9c4bf430-9e43-4644-e821-3ec2d004ff4e"
   },
   "outputs": [
    {
     "name": "stdout",
     "output_type": "stream",
     "text": [
      "df['class'].unique() = array([1, 6, 5, 2, 3, 4, 8, 7], dtype=int64)\n",
      "df['TYPE_HOTLINE'].unique() = array([2, 1, 3], dtype=int64)\n"
     ]
    }
   ],
   "source": [
    "df = pd.read_excel('./mails.xlsx')\n",
    "\n",
    "print(f\"{df['class'].unique() = }\")         # Какие классы используюутся ([1, 2, 3, 4, 6, 5, 7, 8])\n",
    "print(f\"{df['TYPE_HOTLINE'].unique() = }\")  # Какие TYPE_HOTLINE используюутся ([1, 2, 3])\n"
   ]
  },
  {
   "cell_type": "code",
   "execution_count": 5,
   "metadata": {
    "colab": {
     "base_uri": "https://localhost:8080/",
     "height": 112
    },
    "executionInfo": {
     "elapsed": 10,
     "status": "ok",
     "timestamp": 1728031437561,
     "user": {
      "displayName": "Николай Смирнов",
      "userId": "05792503510966078252"
     },
     "user_tz": -180
    },
    "id": "JdU2b2GFeCOJ",
    "outputId": "33c772f0-7828-4048-c890-0ff131ddd93a"
   },
   "outputs": [
    {
     "data": {
      "text/html": [
       "<div>\n",
       "<style scoped>\n",
       "    .dataframe tbody tr th:only-of-type {\n",
       "        vertical-align: middle;\n",
       "    }\n",
       "\n",
       "    .dataframe tbody tr th {\n",
       "        vertical-align: top;\n",
       "    }\n",
       "\n",
       "    .dataframe thead th {\n",
       "        text-align: right;\n",
       "    }\n",
       "</style>\n",
       "<table border=\"1\" class=\"dataframe\">\n",
       "  <thead>\n",
       "    <tr style=\"text-align: right;\">\n",
       "      <th></th>\n",
       "      <th>CONTENT</th>\n",
       "      <th>TYPE_HOTLINE</th>\n",
       "      <th>class</th>\n",
       "    </tr>\n",
       "  </thead>\n",
       "  <tbody>\n",
       "    <tr>\n",
       "      <th>0</th>\n",
       "      <td>Здравствуйте! Поступила в ваш институт на бюдж...</td>\n",
       "      <td>2</td>\n",
       "      <td>1</td>\n",
       "    </tr>\n",
       "    <tr>\n",
       "      <th>1</th>\n",
       "      <td>Здравствуйте! Я прошла конкурс по трем дисципл...</td>\n",
       "      <td>2</td>\n",
       "      <td>6</td>\n",
       "    </tr>\n",
       "  </tbody>\n",
       "</table>\n",
       "</div>"
      ],
      "text/plain": [
       "                                             CONTENT  TYPE_HOTLINE  class\n",
       "0  Здравствуйте! Поступила в ваш институт на бюдж...             2      1\n",
       "1  Здравствуйте! Я прошла конкурс по трем дисципл...             2      6"
      ]
     },
     "execution_count": 5,
     "metadata": {},
     "output_type": "execute_result"
    }
   ],
   "source": [
    "df.head(2)"
   ]
  },
  {
   "cell_type": "code",
   "execution_count": 6,
   "metadata": {
    "colab": {
     "base_uri": "https://localhost:8080/",
     "height": 206
    },
    "executionInfo": {
     "elapsed": 472,
     "status": "ok",
     "timestamp": 1728031438025,
     "user": {
      "displayName": "Николай Смирнов",
      "userId": "05792503510966078252"
     },
     "user_tz": -180
    },
    "id": "6h3aKhfgTS50",
    "outputId": "cee19991-dff8-478a-fe60-a38737704ece"
   },
   "outputs": [
    {
     "data": {
      "text/html": [
       "<div>\n",
       "<style scoped>\n",
       "    .dataframe tbody tr th:only-of-type {\n",
       "        vertical-align: middle;\n",
       "    }\n",
       "\n",
       "    .dataframe tbody tr th {\n",
       "        vertical-align: top;\n",
       "    }\n",
       "\n",
       "    .dataframe thead th {\n",
       "        text-align: right;\n",
       "    }\n",
       "</style>\n",
       "<table border=\"1\" class=\"dataframe\">\n",
       "  <thead>\n",
       "    <tr style=\"text-align: right;\">\n",
       "      <th></th>\n",
       "      <th>CONTENT</th>\n",
       "      <th>TYPE_HOTLINE</th>\n",
       "      <th>class</th>\n",
       "      <th>cls_name</th>\n",
       "      <th>hlt_name</th>\n",
       "    </tr>\n",
       "  </thead>\n",
       "  <tbody>\n",
       "    <tr>\n",
       "      <th>0</th>\n",
       "      <td>Здравствуйте! Поступила в ваш институт на бюдж...</td>\n",
       "      <td>2</td>\n",
       "      <td>1</td>\n",
       "      <td>Условия подачи</td>\n",
       "      <td>Очная приемная</td>\n",
       "    </tr>\n",
       "    <tr>\n",
       "      <th>1</th>\n",
       "      <td>Здравствуйте! Я прошла конкурс по трем дисципл...</td>\n",
       "      <td>2</td>\n",
       "      <td>6</td>\n",
       "      <td>Перевод</td>\n",
       "      <td>Очная приемная</td>\n",
       "    </tr>\n",
       "    <tr>\n",
       "      <th>2</th>\n",
       "      <td>Здравствуйте! Скажите пожалуйста могу ли я под...</td>\n",
       "      <td>2</td>\n",
       "      <td>1</td>\n",
       "      <td>Условия подачи</td>\n",
       "      <td>Очная приемная</td>\n",
       "    </tr>\n",
       "    <tr>\n",
       "      <th>3</th>\n",
       "      <td>Здравствуйте! Где взять и куда подать заявлени...</td>\n",
       "      <td>2</td>\n",
       "      <td>1</td>\n",
       "      <td>Условия подачи</td>\n",
       "      <td>Очная приемная</td>\n",
       "    </tr>\n",
       "    <tr>\n",
       "      <th>4</th>\n",
       "      <td>Здравствуйте! Есть два высших образования (пла...</td>\n",
       "      <td>2</td>\n",
       "      <td>1</td>\n",
       "      <td>Условия подачи</td>\n",
       "      <td>Очная приемная</td>\n",
       "    </tr>\n",
       "    <tr>\n",
       "      <th>5</th>\n",
       "      <td>Здравствуйте,возможен ли перевод в ваш вуз на ...</td>\n",
       "      <td>1</td>\n",
       "      <td>6</td>\n",
       "      <td>Перевод</td>\n",
       "      <td>ONLINE приёмная</td>\n",
       "    </tr>\n",
       "    <tr>\n",
       "      <th>6</th>\n",
       "      <td>Здравствуйте!  Можно ещё подать заявку  на пос...</td>\n",
       "      <td>2</td>\n",
       "      <td>1</td>\n",
       "      <td>Условия подачи</td>\n",
       "      <td>Очная приемная</td>\n",
       "    </tr>\n",
       "    <tr>\n",
       "      <th>7</th>\n",
       "      <td>Здравствуйте!\\n\\nне хватило # балла по биологи...</td>\n",
       "      <td>1</td>\n",
       "      <td>5</td>\n",
       "      <td>Вступительные испытания</td>\n",
       "      <td>ONLINE приёмная</td>\n",
       "    </tr>\n",
       "    <tr>\n",
       "      <th>8</th>\n",
       "      <td>Здравствуйте! Не нашли информацию. Какие резул...</td>\n",
       "      <td>2</td>\n",
       "      <td>5</td>\n",
       "      <td>Вступительные испытания</td>\n",
       "      <td>Очная приемная</td>\n",
       "    </tr>\n",
       "    <tr>\n",
       "      <th>9</th>\n",
       "      <td>Здравствуйте!мое первое высшее образование пла...</td>\n",
       "      <td>2</td>\n",
       "      <td>1</td>\n",
       "      <td>Условия подачи</td>\n",
       "      <td>Очная приемная</td>\n",
       "    </tr>\n",
       "  </tbody>\n",
       "</table>\n",
       "</div>"
      ],
      "text/plain": [
       "                                             CONTENT  TYPE_HOTLINE  class  \\\n",
       "0  Здравствуйте! Поступила в ваш институт на бюдж...             2      1   \n",
       "1  Здравствуйте! Я прошла конкурс по трем дисципл...             2      6   \n",
       "2  Здравствуйте! Скажите пожалуйста могу ли я под...             2      1   \n",
       "3  Здравствуйте! Где взять и куда подать заявлени...             2      1   \n",
       "4  Здравствуйте! Есть два высших образования (пла...             2      1   \n",
       "5  Здравствуйте,возможен ли перевод в ваш вуз на ...             1      6   \n",
       "6  Здравствуйте!  Можно ещё подать заявку  на пос...             2      1   \n",
       "7  Здравствуйте!\\n\\nне хватило # балла по биологи...             1      5   \n",
       "8  Здравствуйте! Не нашли информацию. Какие резул...             2      5   \n",
       "9  Здравствуйте!мое первое высшее образование пла...             2      1   \n",
       "\n",
       "                  cls_name         hlt_name  \n",
       "0           Условия подачи   Очная приемная  \n",
       "1                  Перевод   Очная приемная  \n",
       "2           Условия подачи   Очная приемная  \n",
       "3           Условия подачи   Очная приемная  \n",
       "4           Условия подачи   Очная приемная  \n",
       "5                  Перевод  ONLINE приёмная  \n",
       "6           Условия подачи   Очная приемная  \n",
       "7  Вступительные испытания  ONLINE приёмная  \n",
       "8  Вступительные испытания   Очная приемная  \n",
       "9           Условия подачи   Очная приемная  "
      ]
     },
     "execution_count": 6,
     "metadata": {},
     "output_type": "execute_result"
    }
   ],
   "source": [
    "# Меняем наименование столбца только для удобства\n",
    "df.rename(columns={'CLASS_': 'lbl'}, inplace=True)\n",
    "# Для удобства добавляем два столбца с наименованиями классов и каналов поствупления обращений.\n",
    "cls_dic = {1:['Условия подачи','Условия подачи документов, сроки, документы, места, льготы'],\n",
    "           2:['Проходной и допустимый балл','Минимальный проходной балл и Минимальный балл для подачи заявления'],\n",
    "           3:['Достижения','Индивидуальные достижения.'],\n",
    "           4:['Общежития','Общежития'],\n",
    "           5:['Вступительные испытания','Вступительные испытания, экзамены, кто может поступать и сдавать экзамены'],\n",
    "           6:['Перевод','Перевод с направления на направление'],\n",
    "           7:['Аспирантура','Вопросы по аспирантуре'],\n",
    "           8:['Регистрация','Регистрация в электронных системах'],\n",
    "           }\n",
    "hlt_dic = {1:'ONLINE приёмная',\n",
    "           2:'Очная приемная',\n",
    "           3:'Приёмная аспирантуры'\n",
    "           }\n",
    "\n",
    "df['cls_name'] = df['class'].map(lambda x: cls_dic[x][0])\n",
    "df['hlt_name'] = df.TYPE_HOTLINE.map(lambda x: hlt_dic[x])\n",
    "df.head(10)"
   ]
  },
  {
   "cell_type": "markdown",
   "metadata": {
    "id": "l5AQ4UAfgEx6"
   },
   "source": [
    "Классы сообщений:"
   ]
  },
  {
   "cell_type": "code",
   "execution_count": 7,
   "metadata": {
    "colab": {
     "base_uri": "https://localhost:8080/"
    },
    "executionInfo": {
     "elapsed": 34,
     "status": "ok",
     "timestamp": 1728031438028,
     "user": {
      "displayName": "Николай Смирнов",
      "userId": "05792503510966078252"
     },
     "user_tz": -180
    },
    "id": "e-CnBlZpu6e-",
    "outputId": "6a9f921f-3919-4d8e-f525-390b41282d58"
   },
   "outputs": [
    {
     "data": {
      "text/plain": [
       "['Условия подачи',\n",
       " 'Проходной и допустимый балл',\n",
       " 'Достижения',\n",
       " 'Общежития',\n",
       " 'Вступительные испытания',\n",
       " 'Перевод',\n",
       " 'Аспирантура',\n",
       " 'Регистрация']"
      ]
     },
     "execution_count": 7,
     "metadata": {},
     "output_type": "execute_result"
    }
   ],
   "source": [
    "cls_list = []\n",
    "for i in range(1, len(cls_dic)+1):\n",
    "  cls_list.append(cls_dic[i][0])\n",
    "cls_list"
   ]
  },
  {
   "cell_type": "code",
   "execution_count": 8,
   "metadata": {
    "colab": {
     "base_uri": "https://localhost:8080/"
    },
    "executionInfo": {
     "elapsed": 29,
     "status": "ok",
     "timestamp": 1728031438028,
     "user": {
      "displayName": "Николай Смирнов",
      "userId": "05792503510966078252"
     },
     "user_tz": -180
    },
    "id": "24bwczZXTS52",
    "outputId": "a8046455-6ae3-4c7c-bd4d-3f1659580390"
   },
   "outputs": [
    {
     "data": {
      "text/plain": [
       "(588, 5)"
      ]
     },
     "execution_count": 8,
     "metadata": {},
     "output_type": "execute_result"
    }
   ],
   "source": [
    "df.shape   # (588, 5) -> 588 строк и 5 столбцов"
   ]
  },
  {
   "cell_type": "markdown",
   "metadata": {
    "id": "NuKy1HkkTS55"
   },
   "source": [
    "### Анализ, визуализация и сбалансированность датасета"
   ]
  },
  {
   "cell_type": "code",
   "execution_count": 9,
   "metadata": {
    "colab": {
     "base_uri": "https://localhost:8080/"
    },
    "executionInfo": {
     "elapsed": 27,
     "status": "ok",
     "timestamp": 1728031438029,
     "user": {
      "displayName": "Николай Смирнов",
      "userId": "05792503510966078252"
     },
     "user_tz": -180
    },
    "id": "I8J1-8o2TS56",
    "outputId": "f937c6bb-4967-4938-8782-5a5483f2e6b9"
   },
   "outputs": [
    {
     "name": "stdout",
     "output_type": "stream",
     "text": [
      "cls_name\n",
      "Аспирантура                      5\n",
      "Регистрация                     16\n",
      "Проходной и допустимый балл     24\n",
      "Общежития                       28\n",
      "Достижения                      29\n",
      "Перевод                         42\n",
      "Вступительные испытания        155\n",
      "Условия подачи                 289\n",
      "Name: cls_name, dtype: int64\n"
     ]
    }
   ],
   "source": [
    "g = df.groupby('cls_name')['cls_name'].count().sort_values()\n",
    "print(g)"
   ]
  },
  {
   "cell_type": "code",
   "execution_count": 10,
   "metadata": {
    "colab": {
     "base_uri": "https://localhost:8080/",
     "height": 210
    },
    "executionInfo": {
     "elapsed": 25,
     "status": "ok",
     "timestamp": 1728031438030,
     "user": {
      "displayName": "Николай Смирнов",
      "userId": "05792503510966078252"
     },
     "user_tz": -180
    },
    "id": "RDwPMLeiTS57",
    "outputId": "07d2938e-660b-4558-93de-a363cef8073d"
   },
   "outputs": [
    {
     "name": "stdout",
     "output_type": "stream",
     "text": [
      "TYPE_HOTLINE\n",
      "3      6\n",
      "1     45\n",
      "2    537\n",
      "Name: TYPE_HOTLINE, dtype: int64\n"
     ]
    }
   ],
   "source": [
    "g = df.groupby('TYPE_HOTLINE')['TYPE_HOTLINE'].count().sort_values()\n",
    "print(g)"
   ]
  },
  {
   "cell_type": "markdown",
   "metadata": {
    "id": "8CBCQfgpTS6C"
   },
   "source": [
    "# Задача 1. Подготовка данных\n",
    "Предобработка текста писем: удаление из текста лишней информации, которая не нужна для получения основной мысли сообщения и классификации его."
   ]
  },
  {
   "cell_type": "markdown",
   "metadata": {
    "id": "dYghnwPyTS6G"
   },
   "source": [
    "#### Приведение слов в нормальную форму"
   ]
  },
  {
   "cell_type": "code",
   "execution_count": 11,
   "metadata": {
    "executionInfo": {
     "elapsed": 24,
     "status": "ok",
     "timestamp": 1728031438030,
     "user": {
      "displayName": "Николай Смирнов",
      "userId": "05792503510966078252"
     },
     "user_tz": -180
    },
    "id": "7UkWLmDFTS6G"
   },
   "outputs": [],
   "source": [
    "def morphan(word, morph):\n",
    "    '''\n",
    "    Приведение слов в нормальную форму, удаление числительных и ФИО.\n",
    "    '''\n",
    "    word = word.strip()         # Удаляет пробелы до и после слова\n",
    "    p = morph.parse(word)[0]    # Разбираем (анализируем) слово с pymorphy3\n",
    "\n",
    "    word_new = word\n",
    "    if (not 'Surn' in p.tag) and (not 'Name' in p.tag) and (not 'Patr' in p.tag) and ('NOUN' in p.tag):\n",
    "        # Cуществительное, но не ФИО (surname, name, patronymic)\n",
    "        word_new = p.normal_form\n",
    "    # Иначе все фамилии, имена и отчества заменяются на статичное \"Фамилия\", \"Имя\", \"Отчество\"\n",
    "    elif 'Surn' in p.tag:\n",
    "        word_new = 'ФАМИЛИЯ'\n",
    "    elif 'Name' in p.tag:\n",
    "        word_new = 'ИМЯ'\n",
    "    elif 'Patr' in p.tag:\n",
    "        word_new = 'ОТЧЕСТВО'\n",
    "\n",
    "    # Глагол\n",
    "    elif ('INFN' in p.tag) or ('VERB' in p.tag): \n",
    "        word_new = p.normal_form\n",
    "\n",
    "    # Прилагательное\n",
    "    elif ('ADJF' in p.tag) or ('ADJS' in p.tag) or ('COMP' in p.tag): \n",
    "        word_new = p.normal_form\n",
    "\n",
    "    # Причастие, похоже на глагол\n",
    "    elif ('PRTF' in p.tag) or ('PRTS' in p.tag) or ('GRND' in p.tag): \n",
    "        word_new = p.normal_form\n",
    "\n",
    "    # Предлоги, местоимения и пр.\n",
    "    elif ('ADVB' in p.tag) or ('NPRO' in p.tag) or ('PRED' in p.tag) or ('PREP' in p.tag) or ('CONJ' in p.tag) or ('PRCL' in p.tag) or ('INTJ' in p.tag):    \n",
    "        word_new = p.normal_form\n",
    "\n",
    "     # Числительные NUMB, межометия intg\n",
    "    elif ('NUMR' in p.tag) or ('NUMB' in p.tag) or ('intg' in p.tag):\n",
    "        word_new = ''\n",
    "\n",
    "    else:\n",
    "        word_new = word\n",
    "    return word_new"
   ]
  },
  {
   "cell_type": "code",
   "execution_count": 12,
   "metadata": {},
   "outputs": [],
   "source": [
    "def normtext(txt, morph):\n",
    "    '''\n",
    "    Возвращает текст из слов в нормальной форме\n",
    "    '''\n",
    "    txt = re.sub(r\"[!#$%&'()*+,./:;<=>?@[\\]^_`{|}~—\\\"\\-]+\", ' ', txt)  # Заменяем знаки пунктуаци и спецсиволы на пробелы\n",
    "    txt = txt.replace('\\n','')\n",
    "    return str(' '.join([morphan(x, morph) for x in txt.split()]))"
   ]
  },
  {
   "cell_type": "markdown",
   "metadata": {},
   "source": [
    "**Улучшения**"
   ]
  },
  {
   "cell_type": "code",
   "execution_count": 13,
   "metadata": {},
   "outputs": [],
   "source": [
    "# Удалене слов, которые меньше двух букв\n",
    "def remove2(txt):\n",
    "    return ' '.join([x if len(x) > 2 else '' for x in txt.split()])"
   ]
  },
  {
   "cell_type": "code",
   "execution_count": 14,
   "metadata": {},
   "outputs": [],
   "source": [
    "# Удаление лишних слов\n",
    "def re_gr(txt):\n",
    "    stop_words = ['спасибо','подскажите','скажите','объясните','пожалуйста', 'здравствуйте',\n",
    "    'добрый день', 'доброго дня', 'С уважением', 'они']\n",
    "    for x in stop_words:\n",
    "        txt = txt.replace(x,'')\n",
    "    return txt"
   ]
  },
  {
   "cell_type": "markdown",
   "metadata": {
    "id": "qnrXhKImhMAV"
   },
   "source": [
    "**Обработка текста**"
   ]
  },
  {
   "cell_type": "code",
   "execution_count": 15,
   "metadata": {
    "executionInfo": {
     "elapsed": 295,
     "status": "ok",
     "timestamp": 1728031451733,
     "user": {
      "displayName": "Николай Смирнов",
      "userId": "05792503510966078252"
     },
     "user_tz": -180
    },
    "id": "Npci4oViTS6L"
   },
   "outputs": [],
   "source": [
    "def prepare_dataframe(df):\n",
    "  df['text'] = df['CONTENT'].map(lambda x: x.lower()).map(re_gr)      # Удаление линих слов\n",
    "  morph = pymorphy3.MorphAnalyzer()\n",
    "  df['text'] = df.text.map(lambda x: normtext(x, morph))              # Текст в нормальной форме + удаление пунктуации\n",
    "  df['text'] = df.text.map(remove2)                                   # Удаление слов, которые меньше 2-х символов\n",
    "  return df\n",
    "  \n",
    "\n",
    "df = prepare_dataframe(df)\n",
    "df.to_excel(r'df_prep.xlsx', index=False)       # Сохраняем обработанные данные"
   ]
  },
  {
   "cell_type": "markdown",
   "metadata": {
    "id": "sdg8Z9XQQWiK"
   },
   "source": [
    "# ML - Классификация\n"
   ]
  },
  {
   "cell_type": "markdown",
   "metadata": {
    "id": "s6DhYn3cTS6N"
   },
   "source": [
    "#### Подбор параметра"
   ]
  },
  {
   "cell_type": "code",
   "execution_count": 16,
   "metadata": {
    "colab": {
     "base_uri": "https://localhost:8080/"
    },
    "executionInfo": {
     "elapsed": 7527,
     "status": "ok",
     "timestamp": 1728031459253,
     "user": {
      "displayName": "Николай Смирнов",
      "userId": "05792503510966078252"
     },
     "user_tz": -180
    },
    "id": "kU2oisUJTS6O",
    "outputId": "5a9d98f9-7704-4d14-cb45-cf6be90ecd81"
   },
   "outputs": [],
   "source": [
    "X_train, X_test, y_train, y_test = train_test_split(df.text, df['class'], random_state=42, test_size=0.3, stratify=df['class'])\n",
    "\n",
    "tfv = TfidfVectorizer()                 # Функция получения векторного представления\n",
    "X_train = tfv.fit_transform(X_train)\n",
    "X_test = tfv.transform(X_test)          "
   ]
  },
  {
   "cell_type": "markdown",
   "metadata": {},
   "source": [
    "**Было**"
   ]
  },
  {
   "cell_type": "code",
   "execution_count": 17,
   "metadata": {},
   "outputs": [],
   "source": [
    "# param_grid = {'C': [1.,10.0]}           # Регуляризационный параметр C для логистической регрессии\n",
    "\n",
    "# grid_search = GridSearchCV(LogisticRegression(), param_grid, cv=3)\n",
    "\n",
    "# grid_search.fit(X_train, y_train)\n",
    "# grid_search.score(X_test, y_test)\n",
    "# grid_search.best_params_                # Лучшие параметры"
   ]
  },
  {
   "cell_type": "markdown",
   "metadata": {},
   "source": [
    "**Стало**"
   ]
  },
  {
   "cell_type": "code",
   "execution_count": 18,
   "metadata": {},
   "outputs": [],
   "source": [
    "from sklearn.ensemble import RandomForestClassifier, GradientBoostingClassifier, VotingClassifier"
   ]
  },
  {
   "cell_type": "code",
   "execution_count": 19,
   "metadata": {},
   "outputs": [
    {
     "data": {
      "text/html": [
       "<style>#sk-container-id-1 {\n",
       "  /* Definition of color scheme common for light and dark mode */\n",
       "  --sklearn-color-text: black;\n",
       "  --sklearn-color-line: gray;\n",
       "  /* Definition of color scheme for unfitted estimators */\n",
       "  --sklearn-color-unfitted-level-0: #fff5e6;\n",
       "  --sklearn-color-unfitted-level-1: #f6e4d2;\n",
       "  --sklearn-color-unfitted-level-2: #ffe0b3;\n",
       "  --sklearn-color-unfitted-level-3: chocolate;\n",
       "  /* Definition of color scheme for fitted estimators */\n",
       "  --sklearn-color-fitted-level-0: #f0f8ff;\n",
       "  --sklearn-color-fitted-level-1: #d4ebff;\n",
       "  --sklearn-color-fitted-level-2: #b3dbfd;\n",
       "  --sklearn-color-fitted-level-3: cornflowerblue;\n",
       "\n",
       "  /* Specific color for light theme */\n",
       "  --sklearn-color-text-on-default-background: var(--sg-text-color, var(--theme-code-foreground, var(--jp-content-font-color1, black)));\n",
       "  --sklearn-color-background: var(--sg-background-color, var(--theme-background, var(--jp-layout-color0, white)));\n",
       "  --sklearn-color-border-box: var(--sg-text-color, var(--theme-code-foreground, var(--jp-content-font-color1, black)));\n",
       "  --sklearn-color-icon: #696969;\n",
       "\n",
       "  @media (prefers-color-scheme: dark) {\n",
       "    /* Redefinition of color scheme for dark theme */\n",
       "    --sklearn-color-text-on-default-background: var(--sg-text-color, var(--theme-code-foreground, var(--jp-content-font-color1, white)));\n",
       "    --sklearn-color-background: var(--sg-background-color, var(--theme-background, var(--jp-layout-color0, #111)));\n",
       "    --sklearn-color-border-box: var(--sg-text-color, var(--theme-code-foreground, var(--jp-content-font-color1, white)));\n",
       "    --sklearn-color-icon: #878787;\n",
       "  }\n",
       "}\n",
       "\n",
       "#sk-container-id-1 {\n",
       "  color: var(--sklearn-color-text);\n",
       "}\n",
       "\n",
       "#sk-container-id-1 pre {\n",
       "  padding: 0;\n",
       "}\n",
       "\n",
       "#sk-container-id-1 input.sk-hidden--visually {\n",
       "  border: 0;\n",
       "  clip: rect(1px 1px 1px 1px);\n",
       "  clip: rect(1px, 1px, 1px, 1px);\n",
       "  height: 1px;\n",
       "  margin: -1px;\n",
       "  overflow: hidden;\n",
       "  padding: 0;\n",
       "  position: absolute;\n",
       "  width: 1px;\n",
       "}\n",
       "\n",
       "#sk-container-id-1 div.sk-dashed-wrapped {\n",
       "  border: 1px dashed var(--sklearn-color-line);\n",
       "  margin: 0 0.4em 0.5em 0.4em;\n",
       "  box-sizing: border-box;\n",
       "  padding-bottom: 0.4em;\n",
       "  background-color: var(--sklearn-color-background);\n",
       "}\n",
       "\n",
       "#sk-container-id-1 div.sk-container {\n",
       "  /* jupyter's `normalize.less` sets `[hidden] { display: none; }`\n",
       "     but bootstrap.min.css set `[hidden] { display: none !important; }`\n",
       "     so we also need the `!important` here to be able to override the\n",
       "     default hidden behavior on the sphinx rendered scikit-learn.org.\n",
       "     See: https://github.com/scikit-learn/scikit-learn/issues/21755 */\n",
       "  display: inline-block !important;\n",
       "  position: relative;\n",
       "}\n",
       "\n",
       "#sk-container-id-1 div.sk-text-repr-fallback {\n",
       "  display: none;\n",
       "}\n",
       "\n",
       "div.sk-parallel-item,\n",
       "div.sk-serial,\n",
       "div.sk-item {\n",
       "  /* draw centered vertical line to link estimators */\n",
       "  background-image: linear-gradient(var(--sklearn-color-text-on-default-background), var(--sklearn-color-text-on-default-background));\n",
       "  background-size: 2px 100%;\n",
       "  background-repeat: no-repeat;\n",
       "  background-position: center center;\n",
       "}\n",
       "\n",
       "/* Parallel-specific style estimator block */\n",
       "\n",
       "#sk-container-id-1 div.sk-parallel-item::after {\n",
       "  content: \"\";\n",
       "  width: 100%;\n",
       "  border-bottom: 2px solid var(--sklearn-color-text-on-default-background);\n",
       "  flex-grow: 1;\n",
       "}\n",
       "\n",
       "#sk-container-id-1 div.sk-parallel {\n",
       "  display: flex;\n",
       "  align-items: stretch;\n",
       "  justify-content: center;\n",
       "  background-color: var(--sklearn-color-background);\n",
       "  position: relative;\n",
       "}\n",
       "\n",
       "#sk-container-id-1 div.sk-parallel-item {\n",
       "  display: flex;\n",
       "  flex-direction: column;\n",
       "}\n",
       "\n",
       "#sk-container-id-1 div.sk-parallel-item:first-child::after {\n",
       "  align-self: flex-end;\n",
       "  width: 50%;\n",
       "}\n",
       "\n",
       "#sk-container-id-1 div.sk-parallel-item:last-child::after {\n",
       "  align-self: flex-start;\n",
       "  width: 50%;\n",
       "}\n",
       "\n",
       "#sk-container-id-1 div.sk-parallel-item:only-child::after {\n",
       "  width: 0;\n",
       "}\n",
       "\n",
       "/* Serial-specific style estimator block */\n",
       "\n",
       "#sk-container-id-1 div.sk-serial {\n",
       "  display: flex;\n",
       "  flex-direction: column;\n",
       "  align-items: center;\n",
       "  background-color: var(--sklearn-color-background);\n",
       "  padding-right: 1em;\n",
       "  padding-left: 1em;\n",
       "}\n",
       "\n",
       "\n",
       "/* Toggleable style: style used for estimator/Pipeline/ColumnTransformer box that is\n",
       "clickable and can be expanded/collapsed.\n",
       "- Pipeline and ColumnTransformer use this feature and define the default style\n",
       "- Estimators will overwrite some part of the style using the `sk-estimator` class\n",
       "*/\n",
       "\n",
       "/* Pipeline and ColumnTransformer style (default) */\n",
       "\n",
       "#sk-container-id-1 div.sk-toggleable {\n",
       "  /* Default theme specific background. It is overwritten whether we have a\n",
       "  specific estimator or a Pipeline/ColumnTransformer */\n",
       "  background-color: var(--sklearn-color-background);\n",
       "}\n",
       "\n",
       "/* Toggleable label */\n",
       "#sk-container-id-1 label.sk-toggleable__label {\n",
       "  cursor: pointer;\n",
       "  display: block;\n",
       "  width: 100%;\n",
       "  margin-bottom: 0;\n",
       "  padding: 0.5em;\n",
       "  box-sizing: border-box;\n",
       "  text-align: center;\n",
       "}\n",
       "\n",
       "#sk-container-id-1 label.sk-toggleable__label-arrow:before {\n",
       "  /* Arrow on the left of the label */\n",
       "  content: \"▸\";\n",
       "  float: left;\n",
       "  margin-right: 0.25em;\n",
       "  color: var(--sklearn-color-icon);\n",
       "}\n",
       "\n",
       "#sk-container-id-1 label.sk-toggleable__label-arrow:hover:before {\n",
       "  color: var(--sklearn-color-text);\n",
       "}\n",
       "\n",
       "/* Toggleable content - dropdown */\n",
       "\n",
       "#sk-container-id-1 div.sk-toggleable__content {\n",
       "  max-height: 0;\n",
       "  max-width: 0;\n",
       "  overflow: hidden;\n",
       "  text-align: left;\n",
       "  /* unfitted */\n",
       "  background-color: var(--sklearn-color-unfitted-level-0);\n",
       "}\n",
       "\n",
       "#sk-container-id-1 div.sk-toggleable__content.fitted {\n",
       "  /* fitted */\n",
       "  background-color: var(--sklearn-color-fitted-level-0);\n",
       "}\n",
       "\n",
       "#sk-container-id-1 div.sk-toggleable__content pre {\n",
       "  margin: 0.2em;\n",
       "  border-radius: 0.25em;\n",
       "  color: var(--sklearn-color-text);\n",
       "  /* unfitted */\n",
       "  background-color: var(--sklearn-color-unfitted-level-0);\n",
       "}\n",
       "\n",
       "#sk-container-id-1 div.sk-toggleable__content.fitted pre {\n",
       "  /* unfitted */\n",
       "  background-color: var(--sklearn-color-fitted-level-0);\n",
       "}\n",
       "\n",
       "#sk-container-id-1 input.sk-toggleable__control:checked~div.sk-toggleable__content {\n",
       "  /* Expand drop-down */\n",
       "  max-height: 200px;\n",
       "  max-width: 100%;\n",
       "  overflow: auto;\n",
       "}\n",
       "\n",
       "#sk-container-id-1 input.sk-toggleable__control:checked~label.sk-toggleable__label-arrow:before {\n",
       "  content: \"▾\";\n",
       "}\n",
       "\n",
       "/* Pipeline/ColumnTransformer-specific style */\n",
       "\n",
       "#sk-container-id-1 div.sk-label input.sk-toggleable__control:checked~label.sk-toggleable__label {\n",
       "  color: var(--sklearn-color-text);\n",
       "  background-color: var(--sklearn-color-unfitted-level-2);\n",
       "}\n",
       "\n",
       "#sk-container-id-1 div.sk-label.fitted input.sk-toggleable__control:checked~label.sk-toggleable__label {\n",
       "  background-color: var(--sklearn-color-fitted-level-2);\n",
       "}\n",
       "\n",
       "/* Estimator-specific style */\n",
       "\n",
       "/* Colorize estimator box */\n",
       "#sk-container-id-1 div.sk-estimator input.sk-toggleable__control:checked~label.sk-toggleable__label {\n",
       "  /* unfitted */\n",
       "  background-color: var(--sklearn-color-unfitted-level-2);\n",
       "}\n",
       "\n",
       "#sk-container-id-1 div.sk-estimator.fitted input.sk-toggleable__control:checked~label.sk-toggleable__label {\n",
       "  /* fitted */\n",
       "  background-color: var(--sklearn-color-fitted-level-2);\n",
       "}\n",
       "\n",
       "#sk-container-id-1 div.sk-label label.sk-toggleable__label,\n",
       "#sk-container-id-1 div.sk-label label {\n",
       "  /* The background is the default theme color */\n",
       "  color: var(--sklearn-color-text-on-default-background);\n",
       "}\n",
       "\n",
       "/* On hover, darken the color of the background */\n",
       "#sk-container-id-1 div.sk-label:hover label.sk-toggleable__label {\n",
       "  color: var(--sklearn-color-text);\n",
       "  background-color: var(--sklearn-color-unfitted-level-2);\n",
       "}\n",
       "\n",
       "/* Label box, darken color on hover, fitted */\n",
       "#sk-container-id-1 div.sk-label.fitted:hover label.sk-toggleable__label.fitted {\n",
       "  color: var(--sklearn-color-text);\n",
       "  background-color: var(--sklearn-color-fitted-level-2);\n",
       "}\n",
       "\n",
       "/* Estimator label */\n",
       "\n",
       "#sk-container-id-1 div.sk-label label {\n",
       "  font-family: monospace;\n",
       "  font-weight: bold;\n",
       "  display: inline-block;\n",
       "  line-height: 1.2em;\n",
       "}\n",
       "\n",
       "#sk-container-id-1 div.sk-label-container {\n",
       "  text-align: center;\n",
       "}\n",
       "\n",
       "/* Estimator-specific */\n",
       "#sk-container-id-1 div.sk-estimator {\n",
       "  font-family: monospace;\n",
       "  border: 1px dotted var(--sklearn-color-border-box);\n",
       "  border-radius: 0.25em;\n",
       "  box-sizing: border-box;\n",
       "  margin-bottom: 0.5em;\n",
       "  /* unfitted */\n",
       "  background-color: var(--sklearn-color-unfitted-level-0);\n",
       "}\n",
       "\n",
       "#sk-container-id-1 div.sk-estimator.fitted {\n",
       "  /* fitted */\n",
       "  background-color: var(--sklearn-color-fitted-level-0);\n",
       "}\n",
       "\n",
       "/* on hover */\n",
       "#sk-container-id-1 div.sk-estimator:hover {\n",
       "  /* unfitted */\n",
       "  background-color: var(--sklearn-color-unfitted-level-2);\n",
       "}\n",
       "\n",
       "#sk-container-id-1 div.sk-estimator.fitted:hover {\n",
       "  /* fitted */\n",
       "  background-color: var(--sklearn-color-fitted-level-2);\n",
       "}\n",
       "\n",
       "/* Specification for estimator info (e.g. \"i\" and \"?\") */\n",
       "\n",
       "/* Common style for \"i\" and \"?\" */\n",
       "\n",
       ".sk-estimator-doc-link,\n",
       "a:link.sk-estimator-doc-link,\n",
       "a:visited.sk-estimator-doc-link {\n",
       "  float: right;\n",
       "  font-size: smaller;\n",
       "  line-height: 1em;\n",
       "  font-family: monospace;\n",
       "  background-color: var(--sklearn-color-background);\n",
       "  border-radius: 1em;\n",
       "  height: 1em;\n",
       "  width: 1em;\n",
       "  text-decoration: none !important;\n",
       "  margin-left: 1ex;\n",
       "  /* unfitted */\n",
       "  border: var(--sklearn-color-unfitted-level-1) 1pt solid;\n",
       "  color: var(--sklearn-color-unfitted-level-1);\n",
       "}\n",
       "\n",
       ".sk-estimator-doc-link.fitted,\n",
       "a:link.sk-estimator-doc-link.fitted,\n",
       "a:visited.sk-estimator-doc-link.fitted {\n",
       "  /* fitted */\n",
       "  border: var(--sklearn-color-fitted-level-1) 1pt solid;\n",
       "  color: var(--sklearn-color-fitted-level-1);\n",
       "}\n",
       "\n",
       "/* On hover */\n",
       "div.sk-estimator:hover .sk-estimator-doc-link:hover,\n",
       ".sk-estimator-doc-link:hover,\n",
       "div.sk-label-container:hover .sk-estimator-doc-link:hover,\n",
       ".sk-estimator-doc-link:hover {\n",
       "  /* unfitted */\n",
       "  background-color: var(--sklearn-color-unfitted-level-3);\n",
       "  color: var(--sklearn-color-background);\n",
       "  text-decoration: none;\n",
       "}\n",
       "\n",
       "div.sk-estimator.fitted:hover .sk-estimator-doc-link.fitted:hover,\n",
       ".sk-estimator-doc-link.fitted:hover,\n",
       "div.sk-label-container:hover .sk-estimator-doc-link.fitted:hover,\n",
       ".sk-estimator-doc-link.fitted:hover {\n",
       "  /* fitted */\n",
       "  background-color: var(--sklearn-color-fitted-level-3);\n",
       "  color: var(--sklearn-color-background);\n",
       "  text-decoration: none;\n",
       "}\n",
       "\n",
       "/* Span, style for the box shown on hovering the info icon */\n",
       ".sk-estimator-doc-link span {\n",
       "  display: none;\n",
       "  z-index: 9999;\n",
       "  position: relative;\n",
       "  font-weight: normal;\n",
       "  right: .2ex;\n",
       "  padding: .5ex;\n",
       "  margin: .5ex;\n",
       "  width: min-content;\n",
       "  min-width: 20ex;\n",
       "  max-width: 50ex;\n",
       "  color: var(--sklearn-color-text);\n",
       "  box-shadow: 2pt 2pt 4pt #999;\n",
       "  /* unfitted */\n",
       "  background: var(--sklearn-color-unfitted-level-0);\n",
       "  border: .5pt solid var(--sklearn-color-unfitted-level-3);\n",
       "}\n",
       "\n",
       ".sk-estimator-doc-link.fitted span {\n",
       "  /* fitted */\n",
       "  background: var(--sklearn-color-fitted-level-0);\n",
       "  border: var(--sklearn-color-fitted-level-3);\n",
       "}\n",
       "\n",
       ".sk-estimator-doc-link:hover span {\n",
       "  display: block;\n",
       "}\n",
       "\n",
       "/* \"?\"-specific style due to the `<a>` HTML tag */\n",
       "\n",
       "#sk-container-id-1 a.estimator_doc_link {\n",
       "  float: right;\n",
       "  font-size: 1rem;\n",
       "  line-height: 1em;\n",
       "  font-family: monospace;\n",
       "  background-color: var(--sklearn-color-background);\n",
       "  border-radius: 1rem;\n",
       "  height: 1rem;\n",
       "  width: 1rem;\n",
       "  text-decoration: none;\n",
       "  /* unfitted */\n",
       "  color: var(--sklearn-color-unfitted-level-1);\n",
       "  border: var(--sklearn-color-unfitted-level-1) 1pt solid;\n",
       "}\n",
       "\n",
       "#sk-container-id-1 a.estimator_doc_link.fitted {\n",
       "  /* fitted */\n",
       "  border: var(--sklearn-color-fitted-level-1) 1pt solid;\n",
       "  color: var(--sklearn-color-fitted-level-1);\n",
       "}\n",
       "\n",
       "/* On hover */\n",
       "#sk-container-id-1 a.estimator_doc_link:hover {\n",
       "  /* unfitted */\n",
       "  background-color: var(--sklearn-color-unfitted-level-3);\n",
       "  color: var(--sklearn-color-background);\n",
       "  text-decoration: none;\n",
       "}\n",
       "\n",
       "#sk-container-id-1 a.estimator_doc_link.fitted:hover {\n",
       "  /* fitted */\n",
       "  background-color: var(--sklearn-color-fitted-level-3);\n",
       "}\n",
       "</style><div id=\"sk-container-id-1\" class=\"sk-top-container\"><div class=\"sk-text-repr-fallback\"><pre>GridSearchCV(cv=4, estimator=GradientBoostingClassifier(),\n",
       "             param_grid={&#x27;learning_rate&#x27;: [0.01, 0.1], &#x27;max_depth&#x27;: [3, 5],\n",
       "                         &#x27;n_estimators&#x27;: [50, 100]})</pre><b>In a Jupyter environment, please rerun this cell to show the HTML representation or trust the notebook. <br />On GitHub, the HTML representation is unable to render, please try loading this page with nbviewer.org.</b></div><div class=\"sk-container\" hidden><div class=\"sk-item sk-dashed-wrapped\"><div class=\"sk-label-container\"><div class=\"sk-label fitted sk-toggleable\"><input class=\"sk-toggleable__control sk-hidden--visually\" id=\"sk-estimator-id-1\" type=\"checkbox\" ><label for=\"sk-estimator-id-1\" class=\"sk-toggleable__label fitted sk-toggleable__label-arrow fitted\">&nbsp;&nbsp;GridSearchCV<a class=\"sk-estimator-doc-link fitted\" rel=\"noreferrer\" target=\"_blank\" href=\"https://scikit-learn.org/1.5/modules/generated/sklearn.model_selection.GridSearchCV.html\">?<span>Documentation for GridSearchCV</span></a><span class=\"sk-estimator-doc-link fitted\">i<span>Fitted</span></span></label><div class=\"sk-toggleable__content fitted\"><pre>GridSearchCV(cv=4, estimator=GradientBoostingClassifier(),\n",
       "             param_grid={&#x27;learning_rate&#x27;: [0.01, 0.1], &#x27;max_depth&#x27;: [3, 5],\n",
       "                         &#x27;n_estimators&#x27;: [50, 100]})</pre></div> </div></div><div class=\"sk-parallel\"><div class=\"sk-parallel-item\"><div class=\"sk-item\"><div class=\"sk-label-container\"><div class=\"sk-label fitted sk-toggleable\"><input class=\"sk-toggleable__control sk-hidden--visually\" id=\"sk-estimator-id-2\" type=\"checkbox\" ><label for=\"sk-estimator-id-2\" class=\"sk-toggleable__label fitted sk-toggleable__label-arrow fitted\">best_estimator_: GradientBoostingClassifier</label><div class=\"sk-toggleable__content fitted\"><pre>GradientBoostingClassifier(learning_rate=0.01, max_depth=5)</pre></div> </div></div><div class=\"sk-serial\"><div class=\"sk-item\"><div class=\"sk-estimator fitted sk-toggleable\"><input class=\"sk-toggleable__control sk-hidden--visually\" id=\"sk-estimator-id-3\" type=\"checkbox\" ><label for=\"sk-estimator-id-3\" class=\"sk-toggleable__label fitted sk-toggleable__label-arrow fitted\">&nbsp;GradientBoostingClassifier<a class=\"sk-estimator-doc-link fitted\" rel=\"noreferrer\" target=\"_blank\" href=\"https://scikit-learn.org/1.5/modules/generated/sklearn.ensemble.GradientBoostingClassifier.html\">?<span>Documentation for GradientBoostingClassifier</span></a></label><div class=\"sk-toggleable__content fitted\"><pre>GradientBoostingClassifier(learning_rate=0.01, max_depth=5)</pre></div> </div></div></div></div></div></div></div></div></div>"
      ],
      "text/plain": [
       "GridSearchCV(cv=4, estimator=GradientBoostingClassifier(),\n",
       "             param_grid={'learning_rate': [0.01, 0.1], 'max_depth': [3, 5],\n",
       "                         'n_estimators': [50, 100]})"
      ]
     },
     "execution_count": 19,
     "metadata": {},
     "output_type": "execute_result"
    }
   ],
   "source": [
    "# Определение параметров для различных моделей\n",
    "param_grid_rf = {\n",
    "    'n_estimators': [50, 100],\n",
    "    'max_depth': [None, 10, 20],\n",
    "    'min_samples_split': [2, 5]\n",
    "}\n",
    "\n",
    "param_grid_gb = {\n",
    "    'n_estimators': [50, 100],\n",
    "    'learning_rate': [0.01, 0.1],\n",
    "    'max_depth': [3, 5]\n",
    "}\n",
    "\n",
    "\n",
    "# Создание экземпляров моделей\n",
    "rf = RandomForestClassifier()       # Случайный лес\n",
    "gb = GradientBoostingClassifier()   # GradientBoosting    \n",
    "\n",
    "# GridSearch для каждой модели\n",
    "grid_search_rf = GridSearchCV(rf, param_grid_rf, cv=4)\n",
    "grid_search_gb = GridSearchCV(gb, param_grid_gb, cv=4)\n",
    "\n",
    "# Обучение моделей\n",
    "grid_search_rf.fit(X_train, y_train)\n",
    "grid_search_gb.fit(X_train, y_train)"
   ]
  },
  {
   "cell_type": "code",
   "execution_count": 20,
   "metadata": {},
   "outputs": [
    {
     "name": "stdout",
     "output_type": "stream",
     "text": [
      "Random Forest Best Params: {'max_depth': None, 'min_samples_split': 5, 'n_estimators': 100}\n",
      "Random Forest Test Score: 0.7853107344632768\n",
      "===========================================================\n",
      "Gradient Boosting Best Params: {'learning_rate': 0.01, 'max_depth': 5, 'n_estimators': 100}\n",
      "Gradient Boosting Test Score: 0.7966101694915254\n"
     ]
    }
   ],
   "source": [
    "# Оценка каждой модели на тестовых данных\n",
    "print(\"Random Forest Best Params:\", grid_search_rf.best_params_)\n",
    "print(\"Random Forest Test Score:\", grid_search_rf.score(X_test, y_test))\n",
    "\n",
    "print('===========================================================')\n",
    "\n",
    "print(\"Gradient Boosting Best Params:\", grid_search_gb.best_params_)\n",
    "print(\"Gradient Boosting Test Score:\", grid_search_gb.score(X_test, y_test))"
   ]
  },
  {
   "cell_type": "code",
   "execution_count": 21,
   "metadata": {},
   "outputs": [
    {
     "name": "stdout",
     "output_type": "stream",
     "text": [
      "Ensemble Model Test Score: 0.7966101694915254\n"
     ]
    }
   ],
   "source": [
    "# Создание ансамбля с VotingClassifier\n",
    "ensemble_model = VotingClassifier(estimators=[\n",
    "    ('rf', grid_search_rf.best_estimator_),\n",
    "    ('gb', grid_search_gb.best_estimator_),\n",
    "], voting='soft')  \n",
    "\n",
    "# Обучение ансамбля\n",
    "ensemble_model.fit(X_train, y_train)\n",
    "\n",
    "# Оценка ансамбля\n",
    "ensemble_score = ensemble_model.score(X_test, y_test)\n",
    "print(\"Ensemble Model Test Score:\", ensemble_score)"
   ]
  },
  {
   "cell_type": "markdown",
   "metadata": {
    "id": "qqtT_TQnQ5Bh"
   },
   "source": [
    "{'C': 10.0}"
   ]
  },
  {
   "cell_type": "code",
   "execution_count": 22,
   "metadata": {
    "executionInfo": {
     "elapsed": 9,
     "status": "ok",
     "timestamp": 1728031459253,
     "user": {
      "displayName": "Николай Смирнов",
      "userId": "05792503510966078252"
     },
     "user_tz": -180
    },
    "id": "FLrnanK2TS6P"
   },
   "outputs": [],
   "source": [
    "def classifier(X_train, y_train, C=10.0):\n",
    "    tfv = TfidfVectorizer()\n",
    "    X_train = tfv.fit_transform(X_train)\n",
    "\n",
    "    # Было\n",
    "    # clf = LogisticRegression(C=C)\n",
    "    # clf = clf.fit(X_train, y_train)\n",
    "    \n",
    "    # Стало\n",
    "    clf = ensemble_model.fit(X_train, y_train)\n",
    "\n",
    "    return tfv, clf\n",
    "\n",
    "def predictor(text, clf, tfv):\n",
    "    X_test = tfv.transform([text])\n",
    "    pred = clf.predict(X_test)\n",
    "    return pred[0]"
   ]
  },
  {
   "cell_type": "code",
   "execution_count": 23,
   "metadata": {
    "executionInfo": {
     "elapsed": 2733,
     "status": "ok",
     "timestamp": 1728031461978,
     "user": {
      "displayName": "Николай Смирнов",
      "userId": "05792503510966078252"
     },
     "user_tz": -180
    },
    "id": "iCABX9zUTS6P"
   },
   "outputs": [],
   "source": [
    "# Обучение\n",
    "X_train, X_test, y_train, y_test = train_test_split(df.text, df['class'], random_state=42, test_size=0.1, stratify=df['class'])\n",
    "tfv, clf = classifier(X_train, y_train, C=10.0)"
   ]
  },
  {
   "cell_type": "code",
   "execution_count": 24,
   "metadata": {
    "id": "G5FtnaUcTS6Q"
   },
   "outputs": [],
   "source": [
    "# Предсказание\n",
    "pred_save = []\n",
    "class_save = []\n",
    "pred = []\n",
    "for nom, txt in enumerate(X_test.values):\n",
    "    pred.append(predictor(txt, clf, tfv))\n"
   ]
  },
  {
   "cell_type": "code",
   "execution_count": 25,
   "metadata": {
    "colab": {
     "base_uri": "https://localhost:8080/"
    },
    "executionInfo": {
     "elapsed": 7,
     "status": "ok",
     "timestamp": 1728031462829,
     "user": {
      "displayName": "Николай Смирнов",
      "userId": "05792503510966078252"
     },
     "user_tz": -180
    },
    "id": "0xvkY4glTS6R",
    "outputId": "d14528b1-9aef-46d3-b4c1-699efbcb1663"
   },
   "outputs": [
    {
     "name": "stdout",
     "output_type": "stream",
     "text": [
      "                             precision    recall  f1-score   support\n",
      "\n",
      "    Вступительные испытания       0.92      0.75      0.83        16\n",
      "                 Достижения       1.00      0.33      0.50         3\n",
      "                  Общежития       1.00      0.67      0.80         3\n",
      "                    Перевод       0.75      0.75      0.75         4\n",
      "Проходной и допустимый балл       1.00      0.50      0.67         2\n",
      "                Регистрация       1.00      1.00      1.00         2\n",
      "             Условия подачи       0.75      0.93      0.83        29\n",
      "\n",
      "                   accuracy                           0.81        59\n",
      "                  macro avg       0.92      0.70      0.77        59\n",
      "               weighted avg       0.84      0.81      0.81        59\n",
      "\n"
     ]
    }
   ],
   "source": [
    "y_test_list = y_test.tolist()\n",
    "y_test_list.extend(class_save)\n",
    "pred_list = pred[:]\n",
    "pred_list.extend(pred_save)\n",
    "\n",
    "mtrs = classification_report([cls_dic[x][0] for x in y_test_list], [cls_dic[x][0] for x in pred_list])\n",
    "print(mtrs)"
   ]
  },
  {
   "cell_type": "code",
   "execution_count": 26,
   "metadata": {
    "colab": {
     "base_uri": "https://localhost:8080/",
     "height": 1000
    },
    "executionInfo": {
     "elapsed": 2585,
     "status": "ok",
     "timestamp": 1728031465410,
     "user": {
      "displayName": "Николай Смирнов",
      "userId": "05792503510966078252"
     },
     "user_tz": -180
    },
    "id": "2tunPBaE-Kmd",
    "outputId": "258b1bad-8117-4764-cb51-6d77f3589a73"
   },
   "outputs": [
    {
     "data": {
      "image/png": "[encoded data removed]",
      "text/plain": [
       "<Figure size 1400x1000 with 2 Axes>"
      ]
     },
     "metadata": {},
     "output_type": "display_data"
    }
   ],
   "source": [
    "def plot_confusion_matrix(cm, classes, f_size=16, normalize=False, title='Матрица ошибок', cmap=plt.cm.Blues):\n",
    "    \"\"\"\n",
    "    This function prints and plots the confusion matrix.\n",
    "    Normalization can be applied by setting 'normalize=True'\n",
    "    \"\"\"\n",
    "    plt.figure(figsize=(14,10))\n",
    "    plt.imshow(cm, interpolation='nearest', cmap=cmap)\n",
    "    plt.title(title, fontsize=f_size + 2)\n",
    "    cb = plt.colorbar()\n",
    "    cb.ax.tick_params(labelsize=f_size - 6)\n",
    "\n",
    "    tick_marks = np.arange(len(classes))\n",
    "    plt.xticks(tick_marks, classes, rotation=90, fontsize=f_size)\n",
    "    plt.yticks(tick_marks, classes, fontsize=f_size)\n",
    "\n",
    "    if normalize:\n",
    "        cm = cm.astype('float') / cm.sum(axis=1)[:, np.newaxis]\n",
    "        #print(\"Normalized confusion matrix\")\n",
    "    else:\n",
    "        pass\n",
    "        #print(\"Confusion matrix, without normalization\")\n",
    "\n",
    "    thresh = cm.max() / 2.\n",
    "    for i, j in itertools.product(range(cm.shape[0]), range(cm.shape[1])):\n",
    "        plt.text(j, i, cm[i, j], horizontalalignment=\"center\",\n",
    "                 color=\"white\" if cm[i, j] > thresh else \"black\", fontsize=f_size)\n",
    "    plt.tight_layout()\n",
    "    plt.ylabel('Действительный класс', fontsize=f_size + 1)\n",
    "    plt.xlabel('Предсказанный класс', fontsize=f_size + 1)\n",
    "    plt.show()\n",
    "\n",
    "conf_matr = confusion_matrix(y_test_list, pred_list, normalize='true')\n",
    "conf_matr = confusion_matrix(y_test_list, pred_list)\n",
    "plot_confusion_matrix(conf_matr, cls_list,  f_size=16)"
   ]
  },
  {
   "cell_type": "markdown",
   "metadata": {
    "id": "s0DWFlb5RwDg"
   },
   "source": [
    "#  RNN - классификация"
   ]
  },
  {
   "cell_type": "code",
   "execution_count": 27,
   "metadata": {
    "executionInfo": {
     "elapsed": 12762,
     "status": "ok",
     "timestamp": 1728031478157,
     "user": {
      "displayName": "Николай Смирнов",
      "userId": "05792503510966078252"
     },
     "user_tz": -180
    },
    "id": "ffRvGURw7kGV"
   },
   "outputs": [],
   "source": [
    "import keras\n",
    "from tensorflow.keras.preprocessing.text import Tokenizer\n",
    "from tensorflow.keras.preprocessing import sequence\n",
    "\n",
    "from keras.models import Sequential\n",
    "from keras.layers import Dense, Activation, Dropout, Embedding, LSTM\n"
   ]
  },
  {
   "cell_type": "markdown",
   "metadata": {
    "id": "II2WdRGO78-d"
   },
   "source": [
    "# LSTM"
   ]
  },
  {
   "cell_type": "code",
   "execution_count": 28,
   "metadata": {
    "executionInfo": {
     "elapsed": 312,
     "status": "ok",
     "timestamp": 1728031478458,
     "user": {
      "displayName": "Николай Смирнов",
      "userId": "05792503510966078252"
     },
     "user_tz": -180
    },
    "id": "FmFUKKBa76Cu"
   },
   "outputs": [],
   "source": [
    "# Создаем единый словарь (слово -> число) для преобразования\n",
    "tokenizer = Tokenizer()\n",
    "tokenizer.fit_on_texts(X_train)\n",
    "\n",
    "# Преобразуем все описания в числовые последовательности, заменяя слова на числа по словарю.\n",
    "textSequences = tokenizer.texts_to_sequences(X_train)"
   ]
  },
  {
   "cell_type": "code",
   "execution_count": 29,
   "metadata": {
    "executionInfo": {
     "elapsed": 8,
     "status": "ok",
     "timestamp": 1728031478458,
     "user": {
      "displayName": "Николай Смирнов",
      "userId": "05792503510966078252"
     },
     "user_tz": -180
    },
    "id": "ScI86c4x8iO2"
   },
   "outputs": [],
   "source": [
    "X_train_1, X_vt_1, y_train_1, y_vt_1 = train_test_split(df.text, df['class'], random_state=42, test_size=0.3)\n",
    "X_valid_1, X_test_1, y_valid_1, y_test_1 = train_test_split(X_vt_1, y_vt_1, test_size=0.5, random_state=42)"
   ]
  },
  {
   "cell_type": "code",
   "execution_count": 30,
   "metadata": {
    "colab": {
     "base_uri": "https://localhost:8080/"
    },
    "executionInfo": {
     "elapsed": 8,
     "status": "ok",
     "timestamp": 1728031478459,
     "user": {
      "displayName": "Николай Смирнов",
      "userId": "05792503510966078252"
     },
     "user_tz": -180
    },
    "id": "A8bWEMXY76F3",
    "outputId": "8d584d57-80b0-4c40-ba1f-6d8bf64eeca4"
   },
   "outputs": [
    {
     "name": "stdout",
     "output_type": "stream",
     "text": [
      "Максимальное количество слов в самом длинном письме: 78 слов\n",
      "Всего уникальных слов в словаре: 1316\n"
     ]
    }
   ],
   "source": [
    "# Максимальное количество слов в самом длинном письме\n",
    "max_words = 0\n",
    "for desc in df.text.tolist():\n",
    "    words = len(desc.split())\n",
    "    if words > max_words:\n",
    "        max_words = words\n",
    "print('Максимальное количество слов в самом длинном письме: {} слов'.format(max_words))\n",
    "\n",
    "total_unique_words = len(tokenizer.word_counts)\n",
    "print('Всего уникальных слов в словаре: {}'.format(total_unique_words))\n",
    "\n",
    "maxSequenceLength = max_words"
   ]
  },
  {
   "cell_type": "code",
   "execution_count": 31,
   "metadata": {
    "colab": {
     "base_uri": "https://localhost:8080/"
    },
    "executionInfo": {
     "elapsed": 772,
     "status": "ok",
     "timestamp": 1728031479225,
     "user": {
      "displayName": "Николай Смирнов",
      "userId": "05792503510966078252"
     },
     "user_tz": -180
    },
    "id": "t9Y2WWPA76Iu",
    "outputId": "5b377adc-004d-44c2-ff9b-1ba2d6b371c9"
   },
   "outputs": [
    {
     "name": "stdout",
     "output_type": "stream",
     "text": [
      "Размерность X_train: (411, 78)\n",
      "Размерность X_valid: (88, 78)\n",
      "Размерность X_test: (89, 78)\n",
      "y_train shape: (411, 9)\n",
      "y_valid shape: (88, 9)\n",
      "y_test shape: (89, 9)\n"
     ]
    }
   ],
   "source": [
    "# Преобразуем описания заявок в векторы чисел\n",
    "vocab_size = 10000\n",
    "tokenizer = Tokenizer(num_words=vocab_size)\n",
    "tokenizer.fit_on_texts(df.text)\n",
    "\n",
    "X_train = tokenizer.texts_to_sequences(X_train_1)\n",
    "X_valid = tokenizer.texts_to_sequences(X_valid_1)\n",
    "X_test = tokenizer.texts_to_sequences(X_test_1)\n",
    "\n",
    "X_train = sequence.pad_sequences(X_train, maxlen=maxSequenceLength)\n",
    "X_valid = sequence.pad_sequences(X_valid, maxlen=maxSequenceLength)\n",
    "X_test = sequence.pad_sequences(X_test, maxlen=maxSequenceLength)\n",
    "\n",
    "print('Размерность X_train:', X_train.shape)\n",
    "print('Размерность X_valid:', X_valid.shape)\n",
    "print('Размерность X_test:', X_test.shape)\n",
    "\n",
    "# Преобразуем категории в матрицу двоичных чисел (для использования categorical_crossentropy)\n",
    "\n",
    "num_classes = df['class'].unique().shape[0]+1\n",
    "\n",
    "y_train = keras.utils.to_categorical(y_train_1, num_classes)\n",
    "y_valid = keras.utils.to_categorical(y_valid_1, num_classes)\n",
    "y_test = keras.utils.to_categorical(y_test_1, num_classes)\n",
    "print('y_train shape:', y_train.shape)\n",
    "print('y_valid shape:', y_valid.shape)\n",
    "print('y_test shape:', y_test.shape)"
   ]
  },
  {
   "cell_type": "markdown",
   "metadata": {},
   "source": [
    "**Было**"
   ]
  },
  {
   "cell_type": "code",
   "execution_count": 32,
   "metadata": {},
   "outputs": [],
   "source": [
    "from keras.models import Sequential\n",
    "from keras.layers import Embedding, GRU, Dense\n",
    "from keras.optimizers import Adam, RMSprop, SGD\n",
    "from keras.losses import CategoricalCrossentropy, BinaryCrossentropy"
   ]
  },
  {
   "cell_type": "markdown",
   "metadata": {},
   "source": [
    "**Было**"
   ]
  },
  {
   "cell_type": "code",
   "execution_count": 33,
   "metadata": {},
   "outputs": [],
   "source": [
    "# # максимальное количество слов для анализа\n",
    "# max_features = vocab_size\n",
    "\n",
    "# print(u'Собираем модель...')\n",
    "# model = Sequential()\n",
    "# model.add(Embedding(max_features, maxSequenceLength))\n",
    "# model.add(LSTM(32, dropout=0.3, recurrent_dropout=0.3))\n",
    "# model.add(Dense(num_classes, activation='sigmoid'))\n",
    "\n",
    "# model.compile(loss='categorical_crossentropy',\n",
    "#               optimizer='adam',\n",
    "#               metrics=['accuracy'])\n",
    "\n",
    "# print (model.summary())"
   ]
  },
  {
   "cell_type": "markdown",
   "metadata": {},
   "source": [
    "**Стало**"
   ]
  },
  {
   "cell_type": "code",
   "execution_count": 34,
   "metadata": {
    "colab": {
     "base_uri": "https://localhost:8080/",
     "height": 274
    },
    "executionInfo": {
     "elapsed": 301,
     "status": "ok",
     "timestamp": 1728031479516,
     "user": {
      "displayName": "Николай Смирнов",
      "userId": "05792503510966078252"
     },
     "user_tz": -180
    },
    "id": "l6oxLQG676Lt",
    "outputId": "535789ba-ee0c-42b7-81b1-b89716c96fa0"
   },
   "outputs": [
    {
     "name": "stdout",
     "output_type": "stream",
     "text": [
      "Собираем модель...\n"
     ]
    },
    {
     "name": "stderr",
     "output_type": "stream",
     "text": [
      "c:\\Users\\murza\\AppData\\Local\\Programs\\Python\\Python311\\Lib\\site-packages\\keras\\src\\layers\\core\\embedding.py:90: UserWarning: Argument `input_length` is deprecated. Just remove it.\n",
      "  warnings.warn(\n"
     ]
    },
    {
     "data": {
      "text/html": [
       "<pre style=\"white-space:pre;overflow-x:auto;line-height:normal;font-family:Menlo,'DejaVu Sans Mono',consolas,'Courier New',monospace\"><span style=\"font-weight: bold\">Model: \"sequential\"</span>\n",
       "</pre>\n"
      ],
      "text/plain": [
       "\u001b[1mModel: \"sequential\"\u001b[0m\n"
      ]
     },
     "metadata": {},
     "output_type": "display_data"
    },
    {
     "data": {
      "text/html": [
       "<pre style=\"white-space:pre;overflow-x:auto;line-height:normal;font-family:Menlo,'DejaVu Sans Mono',consolas,'Courier New',monospace\">┏━━━━━━━━━━━━━━━━━━━━━━━━━━━━━━━━━┳━━━━━━━━━━━━━━━━━━━━━━━━┳━━━━━━━━━━━━━━━┓\n",
       "┃<span style=\"font-weight: bold\"> Layer (type)                    </span>┃<span style=\"font-weight: bold\"> Output Shape           </span>┃<span style=\"font-weight: bold\">       Param # </span>┃\n",
       "┡━━━━━━━━━━━━━━━━━━━━━━━━━━━━━━━━━╇━━━━━━━━━━━━━━━━━━━━━━━━╇━━━━━━━━━━━━━━━┩\n",
       "│ embedding (<span style=\"color: #0087ff; text-decoration-color: #0087ff\">Embedding</span>)           │ ?                      │   <span style=\"color: #00af00; text-decoration-color: #00af00\">0</span> (unbuilt) │\n",
       "├─────────────────────────────────┼────────────────────────┼───────────────┤\n",
       "│ gru (<span style=\"color: #0087ff; text-decoration-color: #0087ff\">GRU</span>)                       │ ?                      │   <span style=\"color: #00af00; text-decoration-color: #00af00\">0</span> (unbuilt) │\n",
       "├─────────────────────────────────┼────────────────────────┼───────────────┤\n",
       "│ dense (<span style=\"color: #0087ff; text-decoration-color: #0087ff\">Dense</span>)                   │ ?                      │   <span style=\"color: #00af00; text-decoration-color: #00af00\">0</span> (unbuilt) │\n",
       "└─────────────────────────────────┴────────────────────────┴───────────────┘\n",
       "</pre>\n"
      ],
      "text/plain": [
       "┏━━━━━━━━━━━━━━━━━━━━━━━━━━━━━━━━━┳━━━━━━━━━━━━━━━━━━━━━━━━┳━━━━━━━━━━━━━━━┓\n",
       "┃\u001b[1m \u001b[0m\u001b[1mLayer (type)                   \u001b[0m\u001b[1m \u001b[0m┃\u001b[1m \u001b[0m\u001b[1mOutput Shape          \u001b[0m\u001b[1m \u001b[0m┃\u001b[1m \u001b[0m\u001b[1m      Param #\u001b[0m\u001b[1m \u001b[0m┃\n",
       "┡━━━━━━━━━━━━━━━━━━━━━━━━━━━━━━━━━╇━━━━━━━━━━━━━━━━━━━━━━━━╇━━━━━━━━━━━━━━━┩\n",
       "│ embedding (\u001b[38;5;33mEmbedding\u001b[0m)           │ ?                      │   \u001b[38;5;34m0\u001b[0m (unbuilt) │\n",
       "├─────────────────────────────────┼────────────────────────┼───────────────┤\n",
       "│ gru (\u001b[38;5;33mGRU\u001b[0m)                       │ ?                      │   \u001b[38;5;34m0\u001b[0m (unbuilt) │\n",
       "├─────────────────────────────────┼────────────────────────┼───────────────┤\n",
       "│ dense (\u001b[38;5;33mDense\u001b[0m)                   │ ?                      │   \u001b[38;5;34m0\u001b[0m (unbuilt) │\n",
       "└─────────────────────────────────┴────────────────────────┴───────────────┘\n"
      ]
     },
     "metadata": {},
     "output_type": "display_data"
    },
    {
     "data": {
      "text/html": [
       "<pre style=\"white-space:pre;overflow-x:auto;line-height:normal;font-family:Menlo,'DejaVu Sans Mono',consolas,'Courier New',monospace\"><span style=\"font-weight: bold\"> Total params: </span><span style=\"color: #00af00; text-decoration-color: #00af00\">0</span> (0.00 B)\n",
       "</pre>\n"
      ],
      "text/plain": [
       "\u001b[1m Total params: \u001b[0m\u001b[38;5;34m0\u001b[0m (0.00 B)\n"
      ]
     },
     "metadata": {},
     "output_type": "display_data"
    },
    {
     "data": {
      "text/html": [
       "<pre style=\"white-space:pre;overflow-x:auto;line-height:normal;font-family:Menlo,'DejaVu Sans Mono',consolas,'Courier New',monospace\"><span style=\"font-weight: bold\"> Trainable params: </span><span style=\"color: #00af00; text-decoration-color: #00af00\">0</span> (0.00 B)\n",
       "</pre>\n"
      ],
      "text/plain": [
       "\u001b[1m Trainable params: \u001b[0m\u001b[38;5;34m0\u001b[0m (0.00 B)\n"
      ]
     },
     "metadata": {},
     "output_type": "display_data"
    },
    {
     "data": {
      "text/html": [
       "<pre style=\"white-space:pre;overflow-x:auto;line-height:normal;font-family:Menlo,'DejaVu Sans Mono',consolas,'Courier New',monospace\"><span style=\"font-weight: bold\"> Non-trainable params: </span><span style=\"color: #00af00; text-decoration-color: #00af00\">0</span> (0.00 B)\n",
       "</pre>\n"
      ],
      "text/plain": [
       "\u001b[1m Non-trainable params: \u001b[0m\u001b[38;5;34m0\u001b[0m (0.00 B)\n"
      ]
     },
     "metadata": {},
     "output_type": "display_data"
    },
    {
     "name": "stdout",
     "output_type": "stream",
     "text": [
      "None\n"
     ]
    }
   ],
   "source": [
    "# максимальное количество слов для анализа\n",
    "max_features = vocab_size\n",
    "embedding_dim = 128       # Размерность слоя Embedding\n",
    "dropout_rate = 0.01       # Значение dropout\n",
    "gru_units = 128           # Количество нейронов в слое GRU\n",
    "\n",
    "\n",
    "print(u'Собираем модель...')\n",
    "model = Sequential()\n",
    "model.add(Embedding(input_dim=max_features, output_dim=embedding_dim, input_length=maxSequenceLength))\n",
    "model.add(GRU(units=gru_units, dropout=dropout_rate, recurrent_dropout=dropout_rate))\n",
    "model.add(Dense(num_classes, activation='sigmoid'))                 # Для многоклассовой классификации\n",
    "\n",
    "model.compile(loss='categorical_crossentropy',\n",
    "              optimizer='RMSprop',\n",
    "              metrics=['accuracy'])\n",
    "\n",
    "print (model.summary())"
   ]
  },
  {
   "cell_type": "code",
   "execution_count": 35,
   "metadata": {
    "colab": {
     "base_uri": "https://localhost:8080/"
    },
    "executionInfo": {
     "elapsed": 64147,
     "status": "ok",
     "timestamp": 1728031543653,
     "user": {
      "displayName": "Николай Смирнов",
      "userId": "05792503510966078252"
     },
     "user_tz": -180
    },
    "id": "DtEDH2nD76OU",
    "outputId": "a495747c-a35a-4523-cb57-b4d29330e753"
   },
   "outputs": [
    {
     "name": "stdout",
     "output_type": "stream",
     "text": [
      "Тренируем модель...\n",
      "Epoch 1/25\n",
      "\u001b[1m13/13\u001b[0m \u001b[32m━━━━━━━━━━━━━━━━━━━━\u001b[0m\u001b[37m\u001b[0m \u001b[1m3s\u001b[0m 68ms/step - accuracy: 0.3715 - loss: 2.0522 - val_accuracy: 0.5000 - val_loss: 1.4328\n",
      "Epoch 2/25\n",
      "\u001b[1m13/13\u001b[0m \u001b[32m━━━━━━━━━━━━━━━━━━━━\u001b[0m\u001b[37m\u001b[0m \u001b[1m1s\u001b[0m 43ms/step - accuracy: 0.5260 - loss: 1.3721 - val_accuracy: 0.5000 - val_loss: 1.3754\n",
      "Epoch 3/25\n",
      "\u001b[1m13/13\u001b[0m \u001b[32m━━━━━━━━━━━━━━━━━━━━\u001b[0m\u001b[37m\u001b[0m \u001b[1m1s\u001b[0m 42ms/step - accuracy: 0.4960 - loss: 1.3112 - val_accuracy: 0.5000 - val_loss: 1.3181\n",
      "Epoch 4/25\n",
      "\u001b[1m13/13\u001b[0m \u001b[32m━━━━━━━━━━━━━━━━━━━━\u001b[0m\u001b[37m\u001b[0m \u001b[1m1s\u001b[0m 44ms/step - accuracy: 0.4828 - loss: 1.2256 - val_accuracy: 0.5000 - val_loss: 1.2205\n",
      "Epoch 5/25\n",
      "\u001b[1m13/13\u001b[0m \u001b[32m━━━━━━━━━━━━━━━━━━━━\u001b[0m\u001b[37m\u001b[0m \u001b[1m1s\u001b[0m 45ms/step - accuracy: 0.5855 - loss: 1.0471 - val_accuracy: 0.5455 - val_loss: 1.1084\n",
      "Epoch 6/25\n",
      "\u001b[1m13/13\u001b[0m \u001b[32m━━━━━━━━━━━━━━━━━━━━\u001b[0m\u001b[37m\u001b[0m \u001b[1m1s\u001b[0m 59ms/step - accuracy: 0.7007 - loss: 0.9128 - val_accuracy: 0.6477 - val_loss: 0.9703\n",
      "Epoch 7/25\n",
      "\u001b[1m13/13\u001b[0m \u001b[32m━━━━━━━━━━━━━━━━━━━━\u001b[0m\u001b[37m\u001b[0m \u001b[1m1s\u001b[0m 49ms/step - accuracy: 0.7385 - loss: 0.7997 - val_accuracy: 0.6932 - val_loss: 0.9750\n",
      "Epoch 8/25\n",
      "\u001b[1m13/13\u001b[0m \u001b[32m━━━━━━━━━━━━━━━━━━━━\u001b[0m\u001b[37m\u001b[0m \u001b[1m1s\u001b[0m 43ms/step - accuracy: 0.7548 - loss: 0.6685 - val_accuracy: 0.7159 - val_loss: 0.8975\n",
      "Epoch 9/25\n",
      "\u001b[1m13/13\u001b[0m \u001b[32m━━━━━━━━━━━━━━━━━━━━\u001b[0m\u001b[37m\u001b[0m \u001b[1m1s\u001b[0m 55ms/step - accuracy: 0.7822 - loss: 0.6390 - val_accuracy: 0.7273 - val_loss: 0.8925\n",
      "Epoch 10/25\n",
      "\u001b[1m13/13\u001b[0m \u001b[32m━━━━━━━━━━━━━━━━━━━━\u001b[0m\u001b[37m\u001b[0m \u001b[1m1s\u001b[0m 56ms/step - accuracy: 0.8491 - loss: 0.4351 - val_accuracy: 0.7045 - val_loss: 1.0595\n",
      "Epoch 11/25\n",
      "\u001b[1m13/13\u001b[0m \u001b[32m━━━━━━━━━━━━━━━━━━━━\u001b[0m\u001b[37m\u001b[0m \u001b[1m1s\u001b[0m 44ms/step - accuracy: 0.8434 - loss: 0.4745 - val_accuracy: 0.6364 - val_loss: 0.9622\n",
      "Epoch 12/25\n",
      "\u001b[1m13/13\u001b[0m \u001b[32m━━━━━━━━━━━━━━━━━━━━\u001b[0m\u001b[37m\u001b[0m \u001b[1m1s\u001b[0m 47ms/step - accuracy: 0.8675 - loss: 0.4381 - val_accuracy: 0.7386 - val_loss: 0.8762\n",
      "Epoch 13/25\n",
      "\u001b[1m13/13\u001b[0m \u001b[32m━━━━━━━━━━━━━━━━━━━━\u001b[0m\u001b[37m\u001b[0m \u001b[1m1s\u001b[0m 38ms/step - accuracy: 0.8774 - loss: 0.3240 - val_accuracy: 0.7500 - val_loss: 0.8248\n",
      "Epoch 14/25\n",
      "\u001b[1m13/13\u001b[0m \u001b[32m━━━━━━━━━━━━━━━━━━━━\u001b[0m\u001b[37m\u001b[0m \u001b[1m1s\u001b[0m 38ms/step - accuracy: 0.9165 - loss: 0.3087 - val_accuracy: 0.6250 - val_loss: 1.0727\n",
      "Epoch 15/25\n",
      "\u001b[1m13/13\u001b[0m \u001b[32m━━━━━━━━━━━━━━━━━━━━\u001b[0m\u001b[37m\u001b[0m \u001b[1m1s\u001b[0m 38ms/step - accuracy: 0.9284 - loss: 0.2631 - val_accuracy: 0.7955 - val_loss: 0.9386\n",
      "Epoch 16/25\n",
      "\u001b[1m13/13\u001b[0m \u001b[32m━━━━━━━━━━━━━━━━━━━━\u001b[0m\u001b[37m\u001b[0m \u001b[1m1s\u001b[0m 38ms/step - accuracy: 0.9515 - loss: 0.2089 - val_accuracy: 0.7841 - val_loss: 0.8863\n",
      "Epoch 17/25\n",
      "\u001b[1m13/13\u001b[0m \u001b[32m━━━━━━━━━━━━━━━━━━━━\u001b[0m\u001b[37m\u001b[0m \u001b[1m1s\u001b[0m 37ms/step - accuracy: 0.9420 - loss: 0.1888 - val_accuracy: 0.6591 - val_loss: 1.1521\n",
      "Epoch 18/25\n",
      "\u001b[1m13/13\u001b[0m \u001b[32m━━━━━━━━━━━━━━━━━━━━\u001b[0m\u001b[37m\u001b[0m \u001b[1m1s\u001b[0m 38ms/step - accuracy: 0.9591 - loss: 0.1683 - val_accuracy: 0.7614 - val_loss: 0.9069\n",
      "Epoch 19/25\n",
      "\u001b[1m13/13\u001b[0m \u001b[32m━━━━━━━━━━━━━━━━━━━━\u001b[0m\u001b[37m\u001b[0m \u001b[1m1s\u001b[0m 45ms/step - accuracy: 0.9674 - loss: 0.1166 - val_accuracy: 0.7614 - val_loss: 1.1119\n",
      "Epoch 20/25\n",
      "\u001b[1m13/13\u001b[0m \u001b[32m━━━━━━━━━━━━━━━━━━━━\u001b[0m\u001b[37m\u001b[0m \u001b[1m1s\u001b[0m 38ms/step - accuracy: 0.9740 - loss: 0.0972 - val_accuracy: 0.7614 - val_loss: 1.0228\n",
      "Epoch 21/25\n",
      "\u001b[1m13/13\u001b[0m \u001b[32m━━━━━━━━━━━━━━━━━━━━\u001b[0m\u001b[37m\u001b[0m \u001b[1m1s\u001b[0m 38ms/step - accuracy: 0.9881 - loss: 0.0736 - val_accuracy: 0.7159 - val_loss: 1.1003\n",
      "Epoch 22/25\n",
      "\u001b[1m13/13\u001b[0m \u001b[32m━━━━━━━━━━━━━━━━━━━━\u001b[0m\u001b[37m\u001b[0m \u001b[1m1s\u001b[0m 37ms/step - accuracy: 0.9852 - loss: 0.0663 - val_accuracy: 0.7045 - val_loss: 1.2419\n",
      "Epoch 23/25\n",
      "\u001b[1m13/13\u001b[0m \u001b[32m━━━━━━━━━━━━━━━━━━━━\u001b[0m\u001b[37m\u001b[0m \u001b[1m1s\u001b[0m 42ms/step - accuracy: 0.9791 - loss: 0.0903 - val_accuracy: 0.8182 - val_loss: 0.9184\n",
      "Epoch 24/25\n",
      "\u001b[1m13/13\u001b[0m \u001b[32m━━━━━━━━━━━━━━━━━━━━\u001b[0m\u001b[37m\u001b[0m \u001b[1m1s\u001b[0m 45ms/step - accuracy: 0.9870 - loss: 0.0755 - val_accuracy: 0.8182 - val_loss: 0.9424\n",
      "Epoch 25/25\n",
      "\u001b[1m13/13\u001b[0m \u001b[32m━━━━━━━━━━━━━━━━━━━━\u001b[0m\u001b[37m\u001b[0m \u001b[1m1s\u001b[0m 42ms/step - accuracy: 0.9868 - loss: 0.0450 - val_accuracy: 0.8182 - val_loss: 0.9322\n"
     ]
    }
   ],
   "source": [
    "batch_size = 32\n",
    "epochs = 25\n",
    "\n",
    "print(u'Тренируем модель...')\n",
    "history = model.fit(X_train, y_train,\n",
    "          batch_size=batch_size,\n",
    "          epochs=epochs,\n",
    "          validation_data=(X_valid, y_valid))"
   ]
  },
  {
   "cell_type": "code",
   "execution_count": 36,
   "metadata": {
    "colab": {
     "base_uri": "https://localhost:8080/"
    },
    "executionInfo": {
     "elapsed": 589,
     "status": "ok",
     "timestamp": 1728031544227,
     "user": {
      "displayName": "Николай Смирнов",
      "userId": "05792503510966078252"
     },
     "user_tz": -180
    },
    "id": "gXlgTHkY76RU",
    "outputId": "98d7b49d-f338-4475-bd02-a7e8a43d38bd"
   },
   "outputs": [
    {
     "name": "stdout",
     "output_type": "stream",
     "text": [
      "\u001b[1m3/3\u001b[0m \u001b[32m━━━━━━━━━━━━━━━━━━━━\u001b[0m\u001b[37m\u001b[0m \u001b[1m0s\u001b[0m 89ms/step\n"
     ]
    }
   ],
   "source": [
    "predictions = model.predict(X_test).argmax(axis=1)\n",
    "y2 = np.array(y_test_1.to_list())\n",
    "pred2 = np.array(predictions)"
   ]
  },
  {
   "cell_type": "code",
   "execution_count": 37,
   "metadata": {
    "colab": {
     "base_uri": "https://localhost:8080/"
    },
    "executionInfo": {
     "elapsed": 315,
     "status": "ok",
     "timestamp": 1728031544532,
     "user": {
      "displayName": "Николай Смирнов",
      "userId": "05792503510966078252"
     },
     "user_tz": -180
    },
    "id": "gorc2kIPMC44",
    "outputId": "31617eb7-75e8-484f-e6d1-34440ca52f9f"
   },
   "outputs": [
    {
     "name": "stdout",
     "output_type": "stream",
     "text": [
      "              precision    recall  f1-score   support\n",
      "\n",
      "           1       0.78      0.80      0.79        45\n",
      "           2       0.50      0.67      0.57         3\n",
      "           3       0.67      0.50      0.57         4\n",
      "           4       0.29      1.00      0.44         2\n",
      "           5       0.86      0.72      0.78        25\n",
      "           6       0.17      0.25      0.20         4\n",
      "           7       0.00      0.00      0.00         1\n",
      "           8       0.50      0.20      0.29         5\n",
      "\n",
      "    accuracy                           0.70        89\n",
      "   macro avg       0.47      0.52      0.46        89\n",
      "weighted avg       0.73      0.70      0.70        89\n",
      "\n"
     ]
    },
    {
     "name": "stderr",
     "output_type": "stream",
     "text": [
      "c:\\Users\\murza\\AppData\\Local\\Programs\\Python\\Python311\\Lib\\site-packages\\sklearn\\metrics\\_classification.py:1531: UndefinedMetricWarning: Precision is ill-defined and being set to 0.0 in labels with no predicted samples. Use `zero_division` parameter to control this behavior.\n",
      "  _warn_prf(average, modifier, f\"{metric.capitalize()} is\", len(result))\n",
      "c:\\Users\\murza\\AppData\\Local\\Programs\\Python\\Python311\\Lib\\site-packages\\sklearn\\metrics\\_classification.py:1531: UndefinedMetricWarning: Precision is ill-defined and being set to 0.0 in labels with no predicted samples. Use `zero_division` parameter to control this behavior.\n",
      "  _warn_prf(average, modifier, f\"{metric.capitalize()} is\", len(result))\n",
      "c:\\Users\\murza\\AppData\\Local\\Programs\\Python\\Python311\\Lib\\site-packages\\sklearn\\metrics\\_classification.py:1531: UndefinedMetricWarning: Precision is ill-defined and being set to 0.0 in labels with no predicted samples. Use `zero_division` parameter to control this behavior.\n",
      "  _warn_prf(average, modifier, f\"{metric.capitalize()} is\", len(result))\n"
     ]
    }
   ],
   "source": [
    "print(classification_report(y2, pred2))"
   ]
  },
  {
   "cell_type": "code",
   "execution_count": 38,
   "metadata": {
    "colab": {
     "base_uri": "https://localhost:8080/",
     "height": 1000
    },
    "executionInfo": {
     "elapsed": 941,
     "status": "ok",
     "timestamp": 1728031545775,
     "user": {
      "displayName": "Николай Смирнов",
      "userId": "05792503510966078252"
     },
     "user_tz": -180
    },
    "id": "ki5Vx2A_sO2Q",
    "outputId": "fa9a1b6c-7804-4f81-dc2a-c9b69ff62aa7"
   },
   "outputs": [
    {
     "data": {
      "image/png": "[encoded data removed]",
      "text/plain": [
       "<Figure size 1400x1000 with 2 Axes>"
      ]
     },
     "metadata": {},
     "output_type": "display_data"
    }
   ],
   "source": [
    "# conf_matr = confusion_matrix(y_test_list, pred_list, normalize='true')\n",
    "conf_matr = confusion_matrix(y2, pred2)\n",
    "plot_confusion_matrix(conf_matr, cls_list,  f_size=16)"
   ]
  }
 ],
 "metadata": {
  "colab": {
   "provenance": []
  },
  "kernelspec": {
   "display_name": "Python 3",
   "language": "python",
   "name": "python3"
  },
  "language_info": {
   "codemirror_mode": {
    "name": "ipython",
    "version": 3
   },
   "file_extension": ".py",
   "mimetype": "text/x-python",
   "name": "python",
   "nbconvert_exporter": "python",
   "pygments_lexer": "ipython3",
   "version": "3.11.4"
  }
 },
 "nbformat": 4,
 "nbformat_minor": 0
}
