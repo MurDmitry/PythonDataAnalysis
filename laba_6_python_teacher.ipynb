{
 "cells": [
  {
   "cell_type": "code",
   "execution_count": 2,
   "metadata": {},
   "outputs": [],
   "source": [
    "%matplotlib inline\n",
    "import pandas as pd\n",
    "import numpy as np"
   ]
  },
  {
   "cell_type": "markdown",
   "metadata": {},
   "source": [
    "**Задание 4**\n",
    "\n",
    "Зашумленные транзакционные данные представлены в списке transaction = [120, -31, ’20.1’, 12.3, ‘bank’, 12, -4, -7, 150, ‘mr.’, 23, 32, 21]. Необходимо:\n",
    "\n",
    "1. Создать объект pd.Series, значения которого совпадают со значениями transaction, а индексы – целые числа >= 10 и < 23. Сохранить созданный объект в переменную t.\n",
    "2. Из t получить только целые числа элементы (*) и вычислите их несмещенную выборочную дисперсию (применив к t метод .var(ddof=1)) среднее значение (применив к t метод .mean())."
   ]
  },
  {
   "cell_type": "code",
   "execution_count": null,
   "metadata": {},
   "outputs": [
    {
     "name": "stdout",
     "output_type": "stream",
     "text": [
      "Дисперсия:  3621.111111111111\n",
      "Среднее значение:  35.111111111111114\n"
     ]
    }
   ],
   "source": [
    "transaction = [120, -31, '20.1', 12.3, 'bank', 12, -4, -7, 150, 'mr.', 23, 32, 21]\n",
    "\n",
    "t = pd.Series(transaction, index=range(10, 23))\n",
    "\n",
    "# apply: применение действий (функций) к элементам pd.Series\n",
    "# isinstance: позволяет проверить принадлежность экземпляра к классу (объект, класс)\n",
    "int_values = t[t.apply(lambda x: isinstance(x, int))]\n",
    "# print(int_values)\n",
    "\n",
    "variance = int_values.var(ddof=1)  # Вычисление дисперсии (ddof=1 степень свободы. 0 - Смещенная)\n",
    "mean = int_values.mean()           # Вычисление среднего значения\n",
    "\n",
    "print('Дисперсия: ', variance)\n",
    "print('Среднее значение: ', mean)"
   ]
  },
  {
   "cell_type": "markdown",
   "metadata": {},
   "source": [
    "**Задание 5**\n",
    "\n",
    "Последовательно выполните:\n",
    "\n",
    "1. Используя функцию random.normal() из модуля numpy, cгенерируйте 200 значений нормально распределённой случайной величины (*). Результат генерации сохраните как pd.Series в переменную s.\n",
    "2. Каждое значение s возведите во 2 степень, индексы элементов s увеличьте на 2.\n",
    "3. Выведите количество значений s, которые больше 2.\n",
    "4. Выведите сумму элементов, строго меньших 2 и имеют нечётные индексы."
   ]
  },
  {
   "cell_type": "code",
   "execution_count": 17,
   "metadata": {},
   "outputs": [
    {
     "name": "stdout",
     "output_type": "stream",
     "text": [
      "Количество значений s > 2 = 39\n",
      "Сумма элементов строго меньших 2 с нечетными индексами = 29.857557941018865\n"
     ]
    }
   ],
   "source": [
    "import numpy as np\n",
    "\n",
    "s = pd.Series(np.random.normal(size=200))   # 200 значений нормально распределённой случайной величины\n",
    "\n",
    "s = np.square(s)\n",
    "s.index += 2\n",
    "\n",
    "print(f'Количество значений s > 2 = {len(s[s > 2])}')\n",
    "\n",
    "summa = s[(s < 2) & (s.index % 2 == 1)].sum()\n",
    "print(f'Сумма элементов строго меньших 2 с нечетными индексами = {summa}')"
   ]
  },
  {
   "cell_type": "markdown",
   "metadata": {},
   "source": [
    "**Задание 6**\n",
    "\n",
    "Скачать набор данных (таблицу) CreditCardTransaction.csv с https://www.kaggle.com/datasets/ybifoundation/credit-card-transaction. Прочитать и сохранить эту таблицу в pd.DataFrame с именем df.\n",
    "\n",
    "1. Задав np.random.seed(12) и используя методsample(), из df получите выборку, содержащую 10000 строк. Выборку сохраните в переменную dfs.\n",
    "Получите количество раз*, которое встретился каждый департамент (значение столбца Department) в dfs.\n",
    "2. Выведите 3 департамента, которые наиболее часто** встречаются в dfs.\n",
    "3. В dfs получить размер сумм транзакций (поле TrnxAmount) соответствующие январю или февралю 2022 года (поля Year и Month) и:\n",
    "4. Найдите медиану*** сумм транзакций полученных значений.\n",
    "5. Добавьте в dfs столбец с разностью значений модуля найденной медианы и модуля значения из поля TrnxAmount.\n",
    "\n",
    "\\* Например, с помощью метода value_counts().\n",
    "\n",
    "\\** Например, с помощью метода nlargest()\n",
    "\n",
    "\\** Например, с помощью метода .median()"
   ]
  },
  {
   "cell_type": "code",
   "execution_count": null,
   "metadata": {},
   "outputs": [
    {
     "name": "stdout",
     "output_type": "stream",
     "text": [
      "68\n",
      "3 Департамента, которые встречаются наиболее часто:\n",
      "Department\n",
      "DEPT OF NATRL RES AND ENV CONT    1310\n",
      "DEPT OF CORRECTIONS               1069\n",
      "DEPT OF TRANSPORTATION            1064\n",
      "Name: count, dtype: int64\n",
      "=======================================================\n",
      "Размер сумм транзакций: 332\n",
      "=======================================================\n",
      "Медиана сумм транзакции: 100.0\n",
      "=======================================================\n",
      "        Year  Month                      Department                Division  \\\n",
      "472593  2021      9  DEPT OF NATRL RES AND ENV CONT    Parks and Recreation   \n",
      "62119   2019      4     DEPT OF SAFETY AND HOMELAND  State Police-Executive   \n",
      "\n",
      "                    Merchant                              TranxDescription  \\\n",
      "472593              GRAINGER  Industrial Supplies Not Elsewhere Classified   \n",
      "62119   PANERA BREAD #600943                     Eating Places Restaurants   \n",
      "\n",
      "         TranxDate  TrnxAmount  MedianDifference  \n",
      "472593  03-11-2021      195.94            -95.94  \n",
      "62119   10-04-2018       12.94             87.06  \n"
     ]
    }
   ],
   "source": [
    "df = pd.read_csv('CreditCardTransaction.csv')\n",
    "np.random.seed(12)\n",
    "\n",
    "# 1. Выборка из 10000 строк\n",
    "dfs = df.sample(n=10000)\n",
    "\n",
    "# 1-2. Количество раз, которое встречается каждый департамент\n",
    "d_amount = dfs['Department'].value_counts()\n",
    "print(len(d_amount))\n",
    "print(f\"3 Департамента, которые встречаются наиболее часто:\\n{d_amount.nlargest(3)}\")\n",
    "\n",
    "print('=======================================================')\n",
    "# 3. Размер сумм транзакций для января и февраля 2022 года\n",
    "transaction = dfs[(dfs['Year'] == 2022) & ((dfs['Month'] == 1) | (dfs['Month'] == 2))]['TrnxAmount']\n",
    "print(f\"Размер сумм транзакций: {len(transaction)}\")\n",
    "\n",
    "print('=======================================================')\n",
    "m = transaction.median()\n",
    "print(f\"Медиана сумм транзакции: {m}\")\n",
    "\n",
    "print('=======================================================')\n",
    "# Столбец с разностью значений модуля медианы и модуля TrnxAmount\n",
    "dfs['MedianDifference'] = np.abs(m) - np.abs(dfs['TrnxAmount'])\n",
    "print(dfs.head(2))"
   ]
  }
 ],
 "metadata": {
  "kernelspec": {
   "display_name": "Python 3",
   "language": "python",
   "name": "python3"
  },
  "language_info": {
   "codemirror_mode": {
    "name": "ipython",
    "version": 3
   },
   "file_extension": ".py",
   "mimetype": "text/x-python",
   "name": "python",
   "nbconvert_exporter": "python",
   "pygments_lexer": "ipython3",
   "version": "3.11.4"
  }
 },
 "nbformat": 4,
 "nbformat_minor": 2
}
